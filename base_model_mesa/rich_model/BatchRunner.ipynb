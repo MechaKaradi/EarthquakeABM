{
 "cells": [
  {
   "cell_type": "code",
   "execution_count": 9,
   "id": "f3c1ebfc",
   "metadata": {},
   "outputs": [
    {
     "name": "stderr",
     "output_type": "stream",
     "text": [
      "C:\\Users\\pierr\\AppData\\Local\\Temp\\ipykernel_8772\\1787289185.py:36: DeprecationWarning: BatchRunner class has been replaced by batch_run function. Please see documentation.\n",
      "  batch_run = BatchRunner(MinimalModel, parameters, 10)\n"
     ]
    },
    {
     "ename": "AttributeError",
     "evalue": "'int' object has no attribute 'keys'",
     "output_type": "error",
     "traceback": [
      "\u001b[1;31m---------------------------------------------------------------------------\u001b[0m",
      "\u001b[1;31mAttributeError\u001b[0m                            Traceback (most recent call last)",
      "\u001b[1;32m~\\AppData\\Local\\Temp\\ipykernel_8772\\1787289185.py\u001b[0m in \u001b[0;36m<module>\u001b[1;34m\u001b[0m\n\u001b[0;32m     34\u001b[0m \u001b[1;33m\u001b[0m\u001b[0m\n\u001b[0;32m     35\u001b[0m \u001b[1;33m\u001b[0m\u001b[0m\n\u001b[1;32m---> 36\u001b[1;33m \u001b[0mbatch_run\u001b[0m \u001b[1;33m=\u001b[0m \u001b[0mBatchRunner\u001b[0m\u001b[1;33m(\u001b[0m\u001b[0mMinimalModel\u001b[0m\u001b[1;33m,\u001b[0m \u001b[0mparameters\u001b[0m\u001b[1;33m,\u001b[0m \u001b[1;36m10\u001b[0m\u001b[1;33m)\u001b[0m\u001b[1;33m\u001b[0m\u001b[1;33m\u001b[0m\u001b[0m\n\u001b[0m\u001b[0;32m     37\u001b[0m \u001b[1;33m\u001b[0m\u001b[0m\n\u001b[0;32m     38\u001b[0m \u001b[0mbatch_run\u001b[0m\u001b[1;33m.\u001b[0m\u001b[0mrun_all\u001b[0m\u001b[1;33m(\u001b[0m\u001b[1;33m)\u001b[0m\u001b[1;33m\u001b[0m\u001b[1;33m\u001b[0m\u001b[0m\n",
      "\u001b[1;32m~\\anaconda3\\lib\\site-packages\\mesa\\batchrunner.py\u001b[0m in \u001b[0;36m__init__\u001b[1;34m(self, model_cls, variable_parameters, fixed_parameters, iterations, max_steps, model_reporters, agent_reporters, display_progress)\u001b[0m\n\u001b[0;32m    600\u001b[0m             )\n\u001b[0;32m    601\u001b[0m         \u001b[1;32melse\u001b[0m\u001b[1;33m:\u001b[0m\u001b[1;33m\u001b[0m\u001b[1;33m\u001b[0m\u001b[0m\n\u001b[1;32m--> 602\u001b[1;33m             super().__init__(\n\u001b[0m\u001b[0;32m    603\u001b[0m                 \u001b[0mmodel_cls\u001b[0m\u001b[1;33m,\u001b[0m\u001b[1;33m\u001b[0m\u001b[1;33m\u001b[0m\u001b[0m\n\u001b[0;32m    604\u001b[0m                 \u001b[0mParameterProduct\u001b[0m\u001b[1;33m(\u001b[0m\u001b[0mvariable_parameters\u001b[0m\u001b[1;33m)\u001b[0m\u001b[1;33m,\u001b[0m\u001b[1;33m\u001b[0m\u001b[1;33m\u001b[0m\u001b[0m\n",
      "\u001b[1;32m~\\anaconda3\\lib\\site-packages\\mesa\\batchrunner.py\u001b[0m in \u001b[0;36m__init__\u001b[1;34m(self, model_cls, parameters_list, fixed_parameters, iterations, max_steps, model_reporters, agent_reporters, display_progress)\u001b[0m\n\u001b[0;32m    292\u001b[0m         \u001b[0mself\u001b[0m\u001b[1;33m.\u001b[0m\u001b[0mparameters_list\u001b[0m \u001b[1;33m=\u001b[0m \u001b[0mlist\u001b[0m\u001b[1;33m(\u001b[0m\u001b[0mparameters_list\u001b[0m\u001b[1;33m)\u001b[0m\u001b[1;33m\u001b[0m\u001b[1;33m\u001b[0m\u001b[0m\n\u001b[0;32m    293\u001b[0m         \u001b[0mself\u001b[0m\u001b[1;33m.\u001b[0m\u001b[0mfixed_parameters\u001b[0m \u001b[1;33m=\u001b[0m \u001b[0mfixed_parameters\u001b[0m \u001b[1;32mor\u001b[0m \u001b[1;33m{\u001b[0m\u001b[1;33m}\u001b[0m\u001b[1;33m\u001b[0m\u001b[1;33m\u001b[0m\u001b[0m\n\u001b[1;32m--> 294\u001b[1;33m         \u001b[0mself\u001b[0m\u001b[1;33m.\u001b[0m\u001b[0m_include_fixed\u001b[0m \u001b[1;33m=\u001b[0m \u001b[0mlen\u001b[0m\u001b[1;33m(\u001b[0m\u001b[0mself\u001b[0m\u001b[1;33m.\u001b[0m\u001b[0mfixed_parameters\u001b[0m\u001b[1;33m.\u001b[0m\u001b[0mkeys\u001b[0m\u001b[1;33m(\u001b[0m\u001b[1;33m)\u001b[0m\u001b[1;33m)\u001b[0m \u001b[1;33m>\u001b[0m \u001b[1;36m0\u001b[0m\u001b[1;33m\u001b[0m\u001b[1;33m\u001b[0m\u001b[0m\n\u001b[0m\u001b[0;32m    295\u001b[0m         \u001b[0mself\u001b[0m\u001b[1;33m.\u001b[0m\u001b[0miterations\u001b[0m \u001b[1;33m=\u001b[0m \u001b[0miterations\u001b[0m\u001b[1;33m\u001b[0m\u001b[1;33m\u001b[0m\u001b[0m\n\u001b[0;32m    296\u001b[0m         \u001b[0mself\u001b[0m\u001b[1;33m.\u001b[0m\u001b[0mmax_steps\u001b[0m \u001b[1;33m=\u001b[0m \u001b[0mmax_steps\u001b[0m\u001b[1;33m\u001b[0m\u001b[1;33m\u001b[0m\u001b[0m\n",
      "\u001b[1;31mAttributeError\u001b[0m: 'int' object has no attribute 'keys'"
     ]
    }
   ],
   "source": [
    "from mesa.batchrunner import BatchRunner \n",
    "\n",
    "from model import Model\n",
    "\n",
    "\n",
    "parameters = {\n",
    "    \"magnitude\": [5, 6, 7],\n",
    "    \"num_citizen\": [1000, 2000, 3000],\n",
    "    \"num_buildings\": [500, 1000, 1500],\n",
    "    \"num_hospitals\": [5, 10, 15],\n",
    "    \"num_ambulances\": [25, 50, 75],\n",
    "    \"num_doctors\": [100, 200, 300],\n",
    "    \"dispatcher_size\": [10, 20, 30]\n",
    "}\n",
    "\n",
    "'Define the parameter settings to be tested'\n",
    "\n",
    "model_reporters = {\"num_citizens\": lambda m: m.schedule.get_agent_count(),\n",
    "                   \"num_buildings\": lambda m: m.schedule.get_agent_count(),\n",
    "                   \"num_hospitals\": lambda m: m.schedule.get_agent_count(),\n",
    "                   \"num_ambulances\": lambda m: m.schedule.get_agent_count(),\n",
    "                   \"num_doctors\": lambda m: m.schedule.get_agent_count(),\n",
    "                   \"dispatcher_size\": lambda m: m.dispatcher.size,\n",
    "                   \"num_dead_citizens\": lambda m: m.dead_citizens,\n",
    "                   \"num_saved_citizens\": lambda m: m.saved_citizens,\n",
    "                   \"num_injured_citizens\": lambda m: m.injured_citizens,\n",
    "                   \"num_dead_doctors\": lambda m: m.dead_doctors,\n",
    "                   \"num_saved_doctors\": lambda m: m.saved_doctors,\n",
    "                   \"num_injured_doctors\": lambda m: m.injured_doctors,\n",
    "                   \"num_destroyed_buildings\": lambda m: m.destroyed_buildings,\n",
    "                   \"num_damaged_buildings\": lambda m: m.damaged_buildings}\n",
    "\n",
    "'keep track of the agents position and the state of the city'\n",
    "\n",
    "\n",
    "batch_run = BatchRunner(MinimalModel, parameters, 10)\n",
    "\n",
    "batch_run.run_all()\n",
    "\n",
    "'run the Batchrunner'\n",
    "\n",
    "results = batch_run.get_model_vars_dataframe()\n",
    "\n",
    "'Collect and analyze the results of the batch run to get the dataframe of the results'\n",
    "\n",
    "\n",
    "\n",
    "\n",
    "\n"
   ]
  },
  {
   "cell_type": "code",
   "execution_count": null,
   "id": "bccfbc62",
   "metadata": {},
   "outputs": [],
   "source": []
  }
 ],
 "metadata": {
  "kernelspec": {
   "display_name": "Python 3 (ipykernel)",
   "language": "python",
   "name": "python3"
  },
  "language_info": {
   "codemirror_mode": {
    "name": "ipython",
    "version": 3
   },
   "file_extension": ".py",
   "mimetype": "text/x-python",
   "name": "python",
   "nbconvert_exporter": "python",
   "pygments_lexer": "ipython3",
   "version": "3.9.13"
  }
 },
 "nbformat": 4,
 "nbformat_minor": 5
}
