{
 "cells": [
  {
   "cell_type": "code",
   "execution_count": 1,
   "id": "85f2c6f3",
   "metadata": {},
   "outputs": [
    {
     "name": "stdout",
     "output_type": "stream",
     "text": [
      "Name: Mesa\n",
      "Version: 1.1.1\n",
      "Summary: Agent-based modeling (ABM) in Python 3+\n",
      "Home-page: https://github.com/projectmesa/mesa\n",
      "Author: Project Mesa Team\n",
      "Author-email: projectmesa@googlegroups.com\n",
      "License: Apache 2.0\n",
      "Location: c:\\users\\pierr\\anaconda3\\lib\\site-packages\n",
      "Requires: click, cookiecutter, networkx, numpy, pandas, tornado, tqdm\n",
      "Required-by: \n",
      "Note: you may need to restart the kernel to use updated packages.\n"
     ]
    }
   ],
   "source": [
    "pip show mesa"
   ]
  },
  {
   "cell_type": "code",
   "execution_count": null,
   "id": "2874add9",
   "metadata": {},
   "outputs": [],
   "source": []
  },
  {
   "cell_type": "code",
   "execution_count": null,
   "id": "8dc1c783",
   "metadata": {},
   "outputs": [],
   "source": []
  }
 ],
 "metadata": {
  "kernelspec": {
   "display_name": "Python 3 (ipykernel)",
   "language": "python",
   "name": "python3"
  },
  "language_info": {
   "codemirror_mode": {
    "name": "ipython",
    "version": 3
   },
   "file_extension": ".py",
   "mimetype": "text/x-python",
   "name": "python",
   "nbconvert_exporter": "python",
   "pygments_lexer": "ipython3",
   "version": "3.9.13"
  }
 },
 "nbformat": 4,
 "nbformat_minor": 5
}
