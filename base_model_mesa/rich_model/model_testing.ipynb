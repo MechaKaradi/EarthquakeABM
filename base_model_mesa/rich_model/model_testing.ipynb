{
 "cells": [
  {
   "cell_type": "code",
   "execution_count": 34,
   "metadata": {
    "collapsed": true
   },
   "outputs": [],
   "source": [
    "from mesa import Agent, Model\n",
    "import mesa.time as time\n",
    "import mesa.space as space\n",
    "from mesa.datacollection import DataCollector\n",
    "\n",
    "from enum import Enum\n",
    "import pickle\n",
    "import networkx as nx\n",
    "import pandas as pd\n",
    "import matplotlib.pyplot as plt\n",
    "import random\n"
   ]
  },
  {
   "cell_type": "markdown",
   "source": [
    "Importing all the libraries that are used in the `model.py` files\n"
   ],
   "metadata": {
    "collapsed": false
   }
  },
  {
   "cell_type": "code",
   "execution_count": 35,
   "outputs": [
    {
     "name": "stdout",
     "output_type": "stream",
     "text": [
      "Graph with 15012 nodes and 19614 edges\n"
     ]
    }
   ],
   "source": [
    "\n",
    "with open('street_network.data', 'rb') as file:\n",
    "    G = pickle.load(file)\n",
    "G = nx.relabel_nodes(G, {15012: 0})\n",
    "print(G)"
   ],
   "metadata": {
    "collapsed": false
   }
  },
  {
   "cell_type": "code",
   "execution_count": 36,
   "outputs": [
    {
     "name": "stdout",
     "output_type": "stream",
     "text": [
      "27265.21807\n"
     ]
    }
   ],
   "source": [
    "def get_edge_list(G):\n",
    "  return [\n",
    "    {\n",
    "      'source': G.nodes[edge[0]],\n",
    "      'target': G.nodes[edge[1]],\n",
    "      'edge_attributes': G.get_edge_data(edge[0], edge[1])\n",
    "    }\n",
    "    for edge in G.edges()\n",
    "  ]\n",
    "\n",
    "edge_list = get_edge_list(G)\n",
    "\n",
    "test_edge = edge_list[0]\n",
    "print(test_edge['source']['pos'][0])\n"
   ],
   "metadata": {
    "collapsed": false
   }
  }
 ],
 "metadata": {
  "kernelspec": {
   "display_name": "Python 3",
   "language": "python",
   "name": "python3"
  },
  "language_info": {
   "codemirror_mode": {
    "name": "ipython",
    "version": 2
   },
   "file_extension": ".py",
   "mimetype": "text/x-python",
   "name": "python",
   "nbconvert_exporter": "python",
   "pygments_lexer": "ipython2",
   "version": "2.7.6"
  }
 },
 "nbformat": 4,
 "nbformat_minor": 0
}
