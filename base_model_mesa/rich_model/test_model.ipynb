{
 "cells": [
  {
   "cell_type": "markdown",
   "source": [
    "# Testing and Model Development Notebook\n",
    "# For the Earthquake Disaster Response Simulation Model; SEN1211"
   ],
   "metadata": {
    "collapsed": false
   }
  },
  {
   "cell_type": "markdown",
   "source": [
    "Step 1: Importing external dependencies and packages for MESA + visualisation and data analysis."
   ],
   "metadata": {
    "collapsed": false
   }
  },
  {
   "cell_type": "code",
   "execution_count": null,
   "id": "70059384-7a53-4dcf-a4e8-9331b4cfc6df",
   "metadata": {
    "tags": []
   },
   "outputs": [],
   "source": [
    "import pandas\n",
    "from mesa import Agent, Model\n",
    "import mesa.time as time\n",
    "import mesa.space as space\n",
    "from mesa.datacollection import DataCollector\n",
    "\n",
    "from enum import Enum\n",
    "import pickle\n",
    "import networkx as nx\n",
    "import pandas as pd\n",
    "import matplotlib.pyplot as plt\n",
    "import random"
   ]
  },
  {
   "cell_type": "markdown",
   "source": [
    "Step 1.1:  Import Agents from agents.py file"
   ],
   "metadata": {
    "collapsed": false
   }
  },
  {
   "cell_type": "code",
   "execution_count": null,
   "outputs": [],
   "source": [
    "from agents import MinimalAgent, Buildings, MobileAgent\n",
    "from model import  MinimalModel"
   ],
   "metadata": {
    "collapsed": false
   }
  },
  {
   "cell_type": "code",
   "execution_count": null,
   "id": "fe8299e7-9aa3-4f77-9f96-28e2889d8a4a",
   "metadata": {
    "tags": []
   },
   "outputs": [],
   "source": [
    "\"\"\" Model metrics\"\"\"\n",
    "def count_agents(self):\n",
    "    return self.num_agents"
   ]
  },
  {
   "cell_type": "code",
   "execution_count": null,
   "id": "71c081e2-b5bb-4fc5-a5c8-c378c0faeb99",
   "metadata": {
    "tags": []
   },
   "outputs": [],
   "source": [
    "\"\"\" Run Model\n",
    "\"\"\"\n",
    "\n",
    "model = MinimalModel()\n",
    "\n",
    "\n",
    "# Get the Pandas Dataframe from the model, by using the table name we defined in the model\n"
   ]
  },
  {
   "cell_type": "markdown",
   "source": [
    "Quick and dirty visualisation of the number and types and properties of the agents in the simulation"
   ],
   "metadata": {
    "collapsed": false
   }
  },
  {
   "cell_type": "code",
   "execution_count": null,
   "outputs": [],
   "source": [
    "model.step()\n",
    "\n",
    "model_data = model.datacollector.get_model_vars_dataframe()\n",
    "agent_data = model.datacollector.get_agent_vars_dataframe()\n",
    "print(model_data)\n",
    "print(agent_data)\n",
    "\n",
    "graph = model.G\n",
    "\n",
    "datadump = pandas.DataFrame.from_dict(model.G._node, orient=\"index\")"
   ],
   "metadata": {
    "collapsed": false
   }
  },
  {
   "cell_type": "code",
   "execution_count": null,
   "outputs": [],
   "source": [
    "for a in model.schedule.agent_buffer():\n",
    "    a.step()"
   ],
   "metadata": {
    "collapsed": false
   }
  },
  {
   "cell_type": "markdown",
   "source": [
    "Testing the alternative Agent creation functions\n"
   ],
   "metadata": {
    "collapsed": false
   }
  },
  {
   "cell_type": "code",
   "execution_count": null,
   "outputs": [],
   "source": [
    "alpha = model.create_agents(MinimalAgent)\n",
    "alpha(100)\n",
    "alpha(102)\n",
    "\n",
    "beta = model.create_agents(MobileAgent)\n",
    "check = beta(101)\n"
   ],
   "metadata": {
    "collapsed": false
   }
  },
  {
   "cell_type": "code",
   "execution_count": null,
   "outputs": [],
   "source": [
    "check2 = check.find_path(10000)"
   ],
   "metadata": {
    "collapsed": false
   }
  },
  {
   "cell_type": "markdown",
   "source": [],
   "metadata": {
    "collapsed": false
   }
  }
 ],
 "metadata": {
  "kernelspec": {
   "display_name": "Python 3.8.15 ('SEN1121')",
   "language": "python",
   "name": "python3"
  },
  "language_info": {
   "codemirror_mode": {
    "name": "ipython",
    "version": 3
   },
   "file_extension": ".py",
   "mimetype": "text/x-python",
   "name": "python",
   "nbconvert_exporter": "python",
   "pygments_lexer": "ipython3",
   "version": "3.8.15"
  },
  "vscode": {
   "interpreter": {
    "hash": "e2fd2631c7b47c37dc6bffb9af1c3fc56da6c8e4c0a3d879adc1ef73c6a6ec07"
   }
  }
 },
 "nbformat": 4,
 "nbformat_minor": 5
}
