{
 "cells": [
  {
   "cell_type": "markdown",
   "source": [
    "# Testing and Model Development Notebook\n",
    "# For the Earthquake Disaster Response Simulation Model; SEN1211"
   ],
   "metadata": {
    "collapsed": false
   }
  },
  {
   "cell_type": "markdown",
   "source": [
    "Step 1: Importing external dependencies and packages for MESA + visualisation and data analysis."
   ],
   "metadata": {
    "collapsed": false
   }
  },
  {
   "cell_type": "code",
   "execution_count": 15,
   "id": "70059384-7a53-4dcf-a4e8-9331b4cfc6df",
   "metadata": {
    "tags": []
   },
   "outputs": [],
   "source": [
    "import pandas\n",
    "from mesa import Agent, Model\n",
    "import mesa.time as time\n",
    "import mesa.space as space\n",
    "from mesa.datacollection import DataCollector\n",
    "\n",
    "from enum import Enum\n",
    "import pickle\n",
    "import networkx as nx\n",
    "import pandas as pd\n",
    "import matplotlib.pyplot as plt\n",
    "import random"
   ]
  },
  {
   "cell_type": "markdown",
   "source": [
    "Step 1.1:  Import Agents from agents.py file"
   ],
   "metadata": {
    "collapsed": false
   }
  },
  {
   "cell_type": "code",
   "execution_count": 16,
   "outputs": [],
   "source": [
    "from agents import MinimalAgent, Buildings, MobileAgent\n",
    "from model import  MinimalModel"
   ],
   "metadata": {
    "collapsed": false
   }
  },
  {
   "cell_type": "code",
   "execution_count": 17,
   "id": "fe8299e7-9aa3-4f77-9f96-28e2889d8a4a",
   "metadata": {
    "tags": []
   },
   "outputs": [],
   "source": [
    "\"\"\" Model metrics\"\"\"\n",
    "def count_agents(self):\n",
    "    return self.num_agents"
   ]
  },
  {
   "cell_type": "code",
   "execution_count": 18,
   "id": "71c081e2-b5bb-4fc5-a5c8-c378c0faeb99",
   "metadata": {
    "tags": []
   },
   "outputs": [
    {
     "name": "stdout",
     "output_type": "stream",
     "text": [
      "4901\n",
      "12426\n",
      "11551\n",
      "11949\n",
      "9778\n",
      "#30a080\n",
      "4901\n",
      "#20b000\n",
      "12426\n",
      "#c0b070\n",
      "11551\n",
      "#400040\n",
      "11949\n",
      "#b0e0d0\n",
      "9778\n"
     ]
    }
   ],
   "source": [
    "\"\"\" Run Model\n",
    "\"\"\"\n",
    "\n",
    "model = MinimalModel()\n",
    "\n",
    "\n",
    "# Get the Pandas Dataframe from the model, by using the table name we defined in the model\n"
   ]
  },
  {
   "cell_type": "markdown",
   "source": [
    "Quick and dirty visualisation of the number and types and properties of the agents in the simulation"
   ],
   "metadata": {
    "collapsed": false
   }
  },
  {
   "cell_type": "code",
   "execution_count": 19,
   "outputs": [
    {
     "name": "stdout",
     "output_type": "stream",
     "text": [
      "This is step: 0\n",
      "Hello world! I am agent: 100001\n",
      " my node id is: 12426\n",
      " my color is: #50c080\n",
      "Hello world! I am agent: 300001\n",
      " my node id is: 12426\n",
      " my color is: #10a090\n",
      "Hello world! I am agent: 100000\n",
      " my node id is: 4901\n",
      " my color is: #30e040\n",
      "Hello world! I am agent: 200001\n",
      " my node id is: 12426\n",
      " my color is: #20b000\n",
      "Hello world! I am agent: 300004\n",
      " my node id is: 9778\n",
      " my color is: #70e030\n",
      "Hello world! I am agent: 200002\n",
      " my node id is: 11551\n",
      " my color is: #c0b070\n",
      "Hello world! I am agent: 200003\n",
      " my node id is: 11949\n",
      " my color is: #400040\n",
      "Hello world! I am agent: 100003\n",
      " my node id is: 11949\n",
      " my color is: #f07000\n",
      "Hello world! I am agent: 300002\n",
      " my node id is: 11551\n",
      " my color is: #80a040\n",
      "Hello world! I am agent: 200000\n",
      " my node id is: 4901\n",
      " my color is: #30a080\n",
      "Hello world! I am agent: 200004\n",
      " my node id is: 9778\n",
      " my color is: #b0e0d0\n",
      "Hello world! I am agent: 300003\n",
      " my node id is: 11949\n",
      " my color is: #20c0f0\n",
      "Hello world! I am agent: 100002\n",
      " my node id is: 11551\n",
      " my color is: #408060\n",
      "Hello world! I am agent: 100004\n",
      " my node id is: 9778\n",
      " my color is: #f0c080\n",
      "Hello world! I am agent: 300000\n",
      " my node id is: 4901\n",
      " my color is: #605020\n",
      "   Number of Agents\n",
      "0                 5\n",
      "1                 5\n",
      "              Agent ID Agent Colour                         family\n",
      "Step AgentID                                                      \n",
      "0    100000     100000      #30e040  <class 'agents.MinimalAgent'>\n",
      "     100001     100001      #50c080  <class 'agents.MinimalAgent'>\n",
      "     100002     100002      #408060  <class 'agents.MinimalAgent'>\n",
      "     100003     100003      #f07000  <class 'agents.MinimalAgent'>\n",
      "     100004     100004      #f0c080  <class 'agents.MinimalAgent'>\n",
      "     200000     200000      #30a080     <class 'agents.Buildings'>\n",
      "     200001     200001      #20b000     <class 'agents.Buildings'>\n",
      "     200002     200002      #c0b070     <class 'agents.Buildings'>\n",
      "     200003     200003      #400040     <class 'agents.Buildings'>\n",
      "     200004     200004      #b0e0d0     <class 'agents.Buildings'>\n",
      "     300000     300000      #605020   <class 'agents.MobileAgent'>\n",
      "     300001     300001      #10a090   <class 'agents.MobileAgent'>\n",
      "     300002     300002      #80a040   <class 'agents.MobileAgent'>\n",
      "     300003     300003      #20c0f0   <class 'agents.MobileAgent'>\n",
      "     300004     300004      #70e030   <class 'agents.MobileAgent'>\n",
      "1    100000     100000      #30e040  <class 'agents.MinimalAgent'>\n",
      "     100001     100001      #50c080  <class 'agents.MinimalAgent'>\n",
      "     100002     100002      #408060  <class 'agents.MinimalAgent'>\n",
      "     100003     100003      #f07000  <class 'agents.MinimalAgent'>\n",
      "     100004     100004      #f0c080  <class 'agents.MinimalAgent'>\n",
      "     200000     200000      #30a080     <class 'agents.Buildings'>\n",
      "     200001     200001      #20b000     <class 'agents.Buildings'>\n",
      "     200002     200002      #c0b070     <class 'agents.Buildings'>\n",
      "     200003     200003      #400040     <class 'agents.Buildings'>\n",
      "     200004     200004      #b0e0d0     <class 'agents.Buildings'>\n",
      "     300000     300000      #605020   <class 'agents.MobileAgent'>\n",
      "     300001     300001      #10a090   <class 'agents.MobileAgent'>\n",
      "     300002     300002      #80a040   <class 'agents.MobileAgent'>\n",
      "     300003     300003      #20c0f0   <class 'agents.MobileAgent'>\n",
      "     300004     300004      #70e030   <class 'agents.MobileAgent'>\n"
     ]
    }
   ],
   "source": [
    "model.step()\n",
    "\n",
    "model_data = model.datacollector.get_model_vars_dataframe()\n",
    "agent_data = model.datacollector.get_agent_vars_dataframe()\n",
    "print(model_data)\n",
    "print(agent_data)\n",
    "\n",
    "graph = model.G\n",
    "\n",
    "datadump = pandas.DataFrame.from_dict(model.G._node, orient=\"index\")"
   ],
   "metadata": {
    "collapsed": false
   }
  },
  {
   "cell_type": "code",
   "execution_count": 20,
   "outputs": [
    {
     "name": "stdout",
     "output_type": "stream",
     "text": [
      "Hello world! I am agent: 100000\n",
      " my node id is: 4901\n",
      " my color is: #30e040\n",
      "Hello world! I am agent: 100001\n",
      " my node id is: 12426\n",
      " my color is: #50c080\n",
      "Hello world! I am agent: 100002\n",
      " my node id is: 11551\n",
      " my color is: #408060\n",
      "Hello world! I am agent: 100003\n",
      " my node id is: 11949\n",
      " my color is: #f07000\n",
      "Hello world! I am agent: 100004\n",
      " my node id is: 9778\n",
      " my color is: #f0c080\n",
      "Hello world! I am agent: 200000\n",
      " my node id is: 4901\n",
      " my color is: #30a080\n",
      "Hello world! I am agent: 200001\n",
      " my node id is: 12426\n",
      " my color is: #20b000\n",
      "Hello world! I am agent: 200002\n",
      " my node id is: 11551\n",
      " my color is: #c0b070\n",
      "Hello world! I am agent: 200003\n",
      " my node id is: 11949\n",
      " my color is: #400040\n",
      "Hello world! I am agent: 200004\n",
      " my node id is: 9778\n",
      " my color is: #b0e0d0\n",
      "Hello world! I am agent: 300000\n",
      " my node id is: 4901\n",
      " my color is: #605020\n",
      "Hello world! I am agent: 300001\n",
      " my node id is: 12426\n",
      " my color is: #10a090\n",
      "Hello world! I am agent: 300002\n",
      " my node id is: 11551\n",
      " my color is: #80a040\n",
      "Hello world! I am agent: 300003\n",
      " my node id is: 11949\n",
      " my color is: #20c0f0\n",
      "Hello world! I am agent: 300004\n",
      " my node id is: 9778\n",
      " my color is: #70e030\n"
     ]
    }
   ],
   "source": [
    "for a in model.schedule.agent_buffer():\n",
    "    a.step()"
   ],
   "metadata": {
    "collapsed": false
   }
  },
  {
   "cell_type": "markdown",
   "source": [
    "Testing the alternative Agent creation functions\n"
   ],
   "metadata": {
    "collapsed": false
   }
  },
  {
   "cell_type": "code",
   "execution_count": 21,
   "outputs": [],
   "source": [
    "alpha = model.create_agents(MinimalAgent)\n",
    "alpha(100)\n",
    "alpha(102)\n",
    "\n",
    "beta = model.create_agents(MobileAgent)"
   ],
   "metadata": {
    "collapsed": false
   }
  },
  {
   "cell_type": "markdown",
   "source": [],
   "metadata": {
    "collapsed": false
   }
  }
 ],
 "metadata": {
  "kernelspec": {
   "display_name": "Python 3.8.15 ('SEN1121')",
   "language": "python",
   "name": "python3"
  },
  "language_info": {
   "codemirror_mode": {
    "name": "ipython",
    "version": 3
   },
   "file_extension": ".py",
   "mimetype": "text/x-python",
   "name": "python",
   "nbconvert_exporter": "python",
   "pygments_lexer": "ipython3",
   "version": "3.8.15"
  },
  "vscode": {
   "interpreter": {
    "hash": "e2fd2631c7b47c37dc6bffb9af1c3fc56da6c8e4c0a3d879adc1ef73c6a6ec07"
   }
  }
 },
 "nbformat": 4,
 "nbformat_minor": 5
}
