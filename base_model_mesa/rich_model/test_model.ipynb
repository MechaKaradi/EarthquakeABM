{
 "cells": [
  {
   "cell_type": "markdown",
   "source": [
    "# Testing and Model Development Notebook\n",
    "# For the Earthquake Disaster Response Simulation Model; SEN1211"
   ],
   "metadata": {
    "collapsed": false
   }
  },
  {
   "cell_type": "markdown",
   "source": [
    "Step 1: Importing external dependencies and packages for MESA + visualisation and data analysis."
   ],
   "metadata": {
    "collapsed": false
   }
  },
  {
   "cell_type": "code",
   "execution_count": 1,
   "id": "70059384-7a53-4dcf-a4e8-9331b4cfc6df",
   "metadata": {
    "tags": []
   },
   "outputs": [],
   "source": [
    "import pandas\n",
    "from mesa import Agent, Model\n",
    "import mesa.time as time\n",
    "import mesa.space as space\n",
    "from mesa.datacollection import DataCollector\n",
    "\n",
    "from enum import Enum\n",
    "import pickle\n",
    "import networkx as nx\n",
    "import pandas as pd\n",
    "import matplotlib.pyplot as plt\n",
    "import random"
   ]
  },
  {
   "cell_type": "markdown",
   "source": [
    "Step 1.1:  Import Agents from agents.py file"
   ],
   "metadata": {
    "collapsed": false
   }
  },
  {
   "cell_type": "code",
   "execution_count": 2,
   "outputs": [],
   "source": [
    "from agents import MinimalAgent, Buildings\n",
    "from model import  MinimalModel"
   ],
   "metadata": {
    "collapsed": false
   }
  },
  {
   "cell_type": "code",
   "execution_count": 3,
   "id": "fe8299e7-9aa3-4f77-9f96-28e2889d8a4a",
   "metadata": {
    "tags": []
   },
   "outputs": [],
   "source": [
    "\"\"\" Model metrics\"\"\"\n",
    "def count_agents(self):\n",
    "    return self.num_agents"
   ]
  },
  {
   "cell_type": "code",
   "execution_count": 4,
   "id": "71c081e2-b5bb-4fc5-a5c8-c378c0faeb99",
   "metadata": {
    "tags": []
   },
   "outputs": [
    {
     "name": "stdout",
     "output_type": "stream",
     "text": [
      "1723\n",
      "3784\n",
      "427\n",
      "13348\n",
      "3073\n",
      "14631\n",
      "12114\n",
      "11178\n",
      "4555\n",
      "5132\n",
      "#4050b0\n",
      "1723\n",
      "#60f0b0\n",
      "3784\n",
      "#d060b0\n",
      "427\n",
      "#e0e0b0\n",
      "13348\n",
      "#d0e0c0\n",
      "3073\n",
      "#b05020\n",
      "14631\n",
      "#50c060\n",
      "12114\n",
      "#008020\n",
      "11178\n",
      "#7000d0\n",
      "4555\n",
      "#d08010\n",
      "5132\n"
     ]
    }
   ],
   "source": [
    "\"\"\" Run Model\n",
    "\"\"\"\n",
    "\n",
    "model = MinimalModel()\n",
    "\n",
    "\n",
    "# Get the Pandas Dataframe from the model, by using the table name we defined in the model\n"
   ]
  },
  {
   "cell_type": "markdown",
   "source": [
    "Quick and dirty visualisation of the number and types and properties of the agents in the simulation"
   ],
   "metadata": {
    "collapsed": false
   }
  },
  {
   "cell_type": "code",
   "execution_count": 5,
   "outputs": [
    {
     "name": "stdout",
     "output_type": "stream",
     "text": [
      "This is step: 0\n",
      "Hello world! I am agent: 100007\n",
      " my node id is: 11178\n",
      " my color is: #e070c0\n",
      "Hello world! I am agent: 100000\n",
      " my node id is: 1723\n",
      " my color is: #c0a0b0\n",
      "Hello world! I am agent: 100005\n",
      " my node id is: 14631\n",
      " my color is: #60e040\n",
      "Hello world! I am agent: 200008\n",
      " my node id is: 4555\n",
      " my color is: #7000d0\n",
      "Hello world! I am agent: 100004\n",
      " my node id is: 3073\n",
      " my color is: #f080d0\n",
      "Hello world! I am agent: 200003\n",
      " my node id is: 13348\n",
      " my color is: #e0e0b0\n",
      "Hello world! I am agent: 100002\n",
      " my node id is: 427\n",
      " my color is: #300030\n",
      "Hello world! I am agent: 200006\n",
      " my node id is: 12114\n",
      " my color is: #50c060\n",
      "Hello world! I am agent: 200009\n",
      " my node id is: 5132\n",
      " my color is: #d08010\n",
      "Hello world! I am agent: 100001\n",
      " my node id is: 3784\n",
      " my color is: #50f010\n",
      "Hello world! I am agent: 100008\n",
      " my node id is: 4555\n",
      " my color is: #00d0f0\n",
      "Hello world! I am agent: 100003\n",
      " my node id is: 13348\n",
      " my color is: #f090a0\n",
      "Hello world! I am agent: 200000\n",
      " my node id is: 1723\n",
      " my color is: #4050b0\n",
      "Hello world! I am agent: 200005\n",
      " my node id is: 14631\n",
      " my color is: #b05020\n",
      "Hello world! I am agent: 100006\n",
      " my node id is: 12114\n",
      " my color is: #b06000\n",
      "Hello world! I am agent: 200001\n",
      " my node id is: 3784\n",
      " my color is: #60f0b0\n",
      "Hello world! I am agent: 200004\n",
      " my node id is: 3073\n",
      " my color is: #d0e0c0\n",
      "Hello world! I am agent: 200007\n",
      " my node id is: 11178\n",
      " my color is: #008020\n",
      "Hello world! I am agent: 200002\n",
      " my node id is: 427\n",
      " my color is: #d060b0\n",
      "Hello world! I am agent: 100009\n",
      " my node id is: 5132\n",
      " my color is: #900030\n",
      "   Number of Agents\n",
      "0                10\n",
      "1                10\n",
      "              Agent ID Agent Colour                         family\n",
      "Step AgentID                                                      \n",
      "0    100000     100000      #c0a0b0  <class 'agents.MinimalAgent'>\n",
      "     100001     100001      #50f010  <class 'agents.MinimalAgent'>\n",
      "     100002     100002      #300030  <class 'agents.MinimalAgent'>\n",
      "     100003     100003      #f090a0  <class 'agents.MinimalAgent'>\n",
      "     100004     100004      #f080d0  <class 'agents.MinimalAgent'>\n",
      "     100005     100005      #60e040  <class 'agents.MinimalAgent'>\n",
      "     100006     100006      #b06000  <class 'agents.MinimalAgent'>\n",
      "     100007     100007      #e070c0  <class 'agents.MinimalAgent'>\n",
      "     100008     100008      #00d0f0  <class 'agents.MinimalAgent'>\n",
      "     100009     100009      #900030  <class 'agents.MinimalAgent'>\n",
      "     200000     200000      #4050b0     <class 'agents.Buildings'>\n",
      "     200001     200001      #60f0b0     <class 'agents.Buildings'>\n",
      "     200002     200002      #d060b0     <class 'agents.Buildings'>\n",
      "     200003     200003      #e0e0b0     <class 'agents.Buildings'>\n",
      "     200004     200004      #d0e0c0     <class 'agents.Buildings'>\n",
      "     200005     200005      #b05020     <class 'agents.Buildings'>\n",
      "     200006     200006      #50c060     <class 'agents.Buildings'>\n",
      "     200007     200007      #008020     <class 'agents.Buildings'>\n",
      "     200008     200008      #7000d0     <class 'agents.Buildings'>\n",
      "     200009     200009      #d08010     <class 'agents.Buildings'>\n",
      "1    100000     100000      #c0a0b0  <class 'agents.MinimalAgent'>\n",
      "     100001     100001      #50f010  <class 'agents.MinimalAgent'>\n",
      "     100002     100002      #300030  <class 'agents.MinimalAgent'>\n",
      "     100003     100003      #f090a0  <class 'agents.MinimalAgent'>\n",
      "     100004     100004      #f080d0  <class 'agents.MinimalAgent'>\n",
      "     100005     100005      #60e040  <class 'agents.MinimalAgent'>\n",
      "     100006     100006      #b06000  <class 'agents.MinimalAgent'>\n",
      "     100007     100007      #e070c0  <class 'agents.MinimalAgent'>\n",
      "     100008     100008      #00d0f0  <class 'agents.MinimalAgent'>\n",
      "     100009     100009      #900030  <class 'agents.MinimalAgent'>\n",
      "     200000     200000      #4050b0     <class 'agents.Buildings'>\n",
      "     200001     200001      #60f0b0     <class 'agents.Buildings'>\n",
      "     200002     200002      #d060b0     <class 'agents.Buildings'>\n",
      "     200003     200003      #e0e0b0     <class 'agents.Buildings'>\n",
      "     200004     200004      #d0e0c0     <class 'agents.Buildings'>\n",
      "     200005     200005      #b05020     <class 'agents.Buildings'>\n",
      "     200006     200006      #50c060     <class 'agents.Buildings'>\n",
      "     200007     200007      #008020     <class 'agents.Buildings'>\n",
      "     200008     200008      #7000d0     <class 'agents.Buildings'>\n",
      "     200009     200009      #d08010     <class 'agents.Buildings'>\n"
     ]
    }
   ],
   "source": [
    "model.step()\n",
    "\n",
    "model_data = model.datacollector.get_model_vars_dataframe()\n",
    "agent_data = model.datacollector.get_agent_vars_dataframe()\n",
    "print(model_data)\n",
    "print(agent_data)\n",
    "\n",
    "graph = model.G\n",
    "\n",
    "datadump = pandas.DataFrame.from_dict(model.G._node, orient=\"index\")"
   ],
   "metadata": {
    "collapsed": false
   }
  },
  {
   "cell_type": "code",
   "execution_count": 6,
   "outputs": [
    {
     "name": "stdout",
     "output_type": "stream",
     "text": [
      "Hello world! I am agent: 100000\n",
      " my node id is: 1723\n",
      " my color is: #c0a0b0\n",
      "Hello world! I am agent: 100001\n",
      " my node id is: 3784\n",
      " my color is: #50f010\n",
      "Hello world! I am agent: 100002\n",
      " my node id is: 427\n",
      " my color is: #300030\n",
      "Hello world! I am agent: 100003\n",
      " my node id is: 13348\n",
      " my color is: #f090a0\n",
      "Hello world! I am agent: 100004\n",
      " my node id is: 3073\n",
      " my color is: #f080d0\n",
      "Hello world! I am agent: 100005\n",
      " my node id is: 14631\n",
      " my color is: #60e040\n",
      "Hello world! I am agent: 100006\n",
      " my node id is: 12114\n",
      " my color is: #b06000\n",
      "Hello world! I am agent: 100007\n",
      " my node id is: 11178\n",
      " my color is: #e070c0\n",
      "Hello world! I am agent: 100008\n",
      " my node id is: 4555\n",
      " my color is: #00d0f0\n",
      "Hello world! I am agent: 100009\n",
      " my node id is: 5132\n",
      " my color is: #900030\n",
      "Hello world! I am agent: 200000\n",
      " my node id is: 1723\n",
      " my color is: #4050b0\n",
      "Hello world! I am agent: 200001\n",
      " my node id is: 3784\n",
      " my color is: #60f0b0\n",
      "Hello world! I am agent: 200002\n",
      " my node id is: 427\n",
      " my color is: #d060b0\n",
      "Hello world! I am agent: 200003\n",
      " my node id is: 13348\n",
      " my color is: #e0e0b0\n",
      "Hello world! I am agent: 200004\n",
      " my node id is: 3073\n",
      " my color is: #d0e0c0\n",
      "Hello world! I am agent: 200005\n",
      " my node id is: 14631\n",
      " my color is: #b05020\n",
      "Hello world! I am agent: 200006\n",
      " my node id is: 12114\n",
      " my color is: #50c060\n",
      "Hello world! I am agent: 200007\n",
      " my node id is: 11178\n",
      " my color is: #008020\n",
      "Hello world! I am agent: 200008\n",
      " my node id is: 4555\n",
      " my color is: #7000d0\n",
      "Hello world! I am agent: 200009\n",
      " my node id is: 5132\n",
      " my color is: #d08010\n"
     ]
    }
   ],
   "source": [
    "for a in model.schedule.agent_buffer():\n",
    "    a.step()"
   ],
   "metadata": {
    "collapsed": false
   }
  },
  {
   "cell_type": "markdown",
   "source": [
    "Create an alternative visualization here using the HoloView library to see the model in real time\n"
   ],
   "metadata": {
    "collapsed": false
   }
  }
 ],
 "metadata": {
  "kernelspec": {
   "display_name": "Python 3.8.15 ('SEN1121')",
   "language": "python",
   "name": "python3"
  },
  "language_info": {
   "codemirror_mode": {
    "name": "ipython",
    "version": 3
   },
   "file_extension": ".py",
   "mimetype": "text/x-python",
   "name": "python",
   "nbconvert_exporter": "python",
   "pygments_lexer": "ipython3",
   "version": "3.8.15"
  },
  "vscode": {
   "interpreter": {
    "hash": "e2fd2631c7b47c37dc6bffb9af1c3fc56da6c8e4c0a3d879adc1ef73c6a6ec07"
   }
  }
 },
 "nbformat": 4,
 "nbformat_minor": 5
}
