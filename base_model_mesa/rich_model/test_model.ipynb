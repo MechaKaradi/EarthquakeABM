{
 "cells": [
  {
   "cell_type": "markdown",
   "id": "82577239",
   "metadata": {},
   "source": [
    "# Testing and Model Development Notebook\n",
    "# For the Earthquake Disaster Response Simulation Model; SEN1211"
   ]
  },
  {
   "cell_type": "markdown",
   "id": "3d54d403",
   "metadata": {},
   "source": [
    "Step 1: Importing external dependencies and packages for MESA + visualisation and data analysis."
   ]
  },
  {
   "cell_type": "code",
   "execution_count": null,
   "id": "70059384-7a53-4dcf-a4e8-9331b4cfc6df",
   "metadata": {
    "tags": [],
    "pycharm": {
     "is_executing": true
    }
   },
   "outputs": [],
   "source": [
    "from mesa import Agent, Model\n",
    "import mesa.time as time\n",
    "import mesa.space as space\n",
    "from mesa.datacollection import DataCollector\n",
    "\n",
    "from enum import Enum\n",
    "import pickle\n",
    "import networkx as nx\n",
    "import pandas as pd\n",
    "import matplotlib.pyplot as plt\n",
    "\n",
    "import hvplot.networkx as hvnx\n",
    "import hvplot.pandas  # noqa\n",
    "import panel as pn\n",
    "import holoviews as hv\n",
    "import random"
   ]
  },
  {
   "cell_type": "markdown",
   "id": "cfcf56ec",
   "metadata": {},
   "source": [
    "Step 1.1:  Import Agents from agents.py file"
   ]
  },
  {
   "cell_type": "code",
   "execution_count": null,
   "id": "23da6154",
   "metadata": {
    "pycharm": {
     "is_executing": true
    }
   },
   "outputs": [],
   "source": [
    "from agents import MinimalAgent, Building, MobileAgent, Citizen, Ambulance\n",
    "from model import  MinimalModel\n"
   ]
  },
  {
   "cell_type": "code",
   "execution_count": null,
   "id": "71c081e2-b5bb-4fc5-a5c8-c378c0faeb99",
   "metadata": {
    "tags": [],
    "pycharm": {
     "is_executing": true
    }
   },
   "outputs": [],
   "source": [
    "\"\"\" Run Model\n",
    "\"\"\"\n",
    "\n",
    "model = MinimalModel(50, 2000, 5, 15, 10)\n",
    "\n",
    "# Get the Pandas Dataframe from the model, by using the table name we defined in the model\n"
   ]
  },
  {
   "cell_type": "markdown",
   "id": "95cd7b90",
   "metadata": {},
   "source": [
    "# Model Setup and Parameters\n",
    "\n",
    "The earthquake model is run over a version of the city of Turin. The street network grid is considered to be the same as of the city. However, the buildings in the city are assigned semi-randomly.\n",
    "\n",
    "Each node has between 0 and 5 buildings, assigned randomly till a total of N buildings are assigned to the city.\n"
   ]
  },
  {
   "cell_type": "code",
   "execution_count": null,
   "id": "583a17d6",
   "metadata": {
    "pycharm": {
     "is_executing": true
    }
   },
   "outputs": [],
   "source": []
  },
  {
   "cell_type": "code",
   "execution_count": null,
   "outputs": [],
   "source": [
    "import networkx.algorithms as nxalg\n",
    "df = pd.DataFrame.from_dict(model.G.nodes(), orient='index')\n",
    "\n",
    "a = [y for x ,y in model.G.nodes.data(\"nearest_hospital_color\")]\n",
    "vornoish = hvnx.draw(G=model.G, pos = dict(model.G.nodes.data('pos')), node_size = 5, node_color = a, edge_width = 0.5)\n",
    "vornoish"
   ],
   "metadata": {
    "collapsed": false,
    "pycharm": {
     "is_executing": true
    }
   }
  },
  {
   "cell_type": "markdown",
   "metadata": {
    "collapsed": false
   },
   "source": [
    "## Call Earthquake Function"
   ]
  },
  {
   "cell_type": "code",
   "execution_count": null,
   "metadata": {
    "collapsed": false,
    "pycharm": {
     "is_executing": true
    }
   },
   "outputs": [],
   "source": [
    "magnitude = 8\n",
    "# model.earthquake(magnitude=8)"
   ]
  },
  {
   "cell_type": "code",
   "execution_count": null,
   "outputs": [],
   "source": [
    "#for a in model.schedule.agents_by_type['Building'].values():\n",
    "#    a.earthquake(magnitude)\n"
   ],
   "metadata": {
    "collapsed": false,
    "pycharm": {
     "is_executing": true
    }
   }
  },
  {
   "cell_type": "code",
   "execution_count": null,
   "outputs": [],
   "source": [
    "# health_plot = agentData.value_counts(subset='health', sort = False)\n",
    "# health_plot.hvplot.barh(y = '0', ylabel='count')"
   ],
   "metadata": {
    "collapsed": false,
    "pycharm": {
     "is_executing": true
    }
   }
  },
  {
   "cell_type": "markdown",
   "id": "2affdf10",
   "metadata": {},
   "source": [
    "Quick and dirty visualization of the number and types and properties of the agents in the simulation"
   ]
  },
  {
   "cell_type": "code",
   "execution_count": null,
   "id": "37c9c556",
   "metadata": {
    "pycharm": {
     "is_executing": true
    }
   },
   "outputs": [
    {
     "name": "stdout",
     "output_type": "stream",
     "text": [
      "This is step: 11\n",
      "This is step: 12\n",
      "This is step: 13\n",
      "This is step: 14\n",
      "This is step: 15\n",
      "This is step: 16\n",
      "This is step: 17\n",
      "This is step: 18\n",
      "This is step: 19\n",
      "This is step: 20\n",
      "This is step: 21\n",
      "This is step: 22\n",
      "This is step: 23\n",
      "This is step: 24\n",
      "This is step: 25\n",
      "This is step: 26\n",
      "This is step: 27\n",
      "This is step: 28\n",
      "This is step: 29\n",
      "This is step: 30\n",
      "This is step: 31\n",
      "This is step: 32\n",
      "This is step: 33\n",
      "This is step: 34\n",
      "This is step: 35\n",
      "This is step: 36\n",
      "This is step: 37\n",
      "This is step: 38\n",
      "This is step: 39\n",
      "This is step: 40\n",
      "This is step: 41\n",
      "This is step: 42\n",
      "This is step: 43\n",
      "This is step: 44\n",
      "This is step: 45\n",
      "This is step: 46\n",
      "This is step: 47\n",
      "This is step: 48\n",
      "This is step: 49\n",
      "This is step: 50\n",
      "This is step: 51\n",
      "This is step: 52\n",
      "This is step: 53\n",
      "This is step: 54\n",
      "This is step: 55\n",
      "This is step: 56\n",
      "This is step: 57\n",
      "This is step: 58\n",
      "This is step: 59\n",
      "This is step: 60\n",
      "This is step: 61\n",
      "This is step: 62\n",
      "This is step: 63\n",
      "This is step: 64\n",
      "This is step: 65\n",
      "This is step: 66\n",
      "This is step: 67\n",
      "This is step: 68\n",
      "This is step: 69\n",
      "This is step: 70\n",
      "This is step: 71\n",
      "This is step: 72\n",
      "This is step: 73\n",
      "This is step: 74\n",
      "This is step: 75\n",
      "This is step: 76\n",
      "This is step: 77\n",
      "This is step: 78\n",
      "This is step: 79\n",
      "This is step: 80\n",
      "This is step: 81\n",
      "This is step: 82\n",
      "This is step: 83\n",
      "This is step: 84\n",
      "This is step: 85\n",
      "This is step: 86\n",
      "This is step: 87\n",
      "This is step: 88\n",
      "This is step: 89\n",
      "This is step: 90\n",
      "This is step: 91\n",
      "This is step: 92\n",
      "This is step: 93\n",
      "This is step: 94\n",
      "This is step: 95\n",
      "This is step: 96\n",
      "This is step: 97\n",
      "This is step: 98\n",
      "This is step: 99\n",
      "This is step: 100\n",
      "This is step: 101\n",
      "This is step: 102\n",
      "This is step: 103\n",
      "This is step: 104\n",
      "This is step: 105\n",
      "This is step: 106\n",
      "This is step: 107\n",
      "This is step: 108\n",
      "This is step: 109\n",
      "This is step: 110\n",
      "This is step: 111\n",
      "This is step: 112\n",
      "This is step: 113\n",
      "This is step: 114\n",
      "This is step: 115\n",
      "This is step: 116\n",
      "This is step: 117\n",
      "This is step: 118\n",
      "This is step: 119\n",
      "This is step: 120\n",
      "This is step: 121\n",
      "This is step: 122\n",
      "This is step: 123\n",
      "This is step: 124\n",
      "This is step: 125\n",
      "This is step: 126\n",
      "This is step: 127\n",
      "This is step: 128\n",
      "This is step: 129\n",
      "This is step: 130\n",
      "This is step: 131\n",
      "This is step: 132\n",
      "This is step: 133\n",
      "This is step: 134\n",
      "This is step: 135\n",
      "This is step: 136\n",
      "This is step: 137\n",
      "This is step: 138\n",
      "This is step: 139\n",
      "This is step: 140\n",
      "This is step: 141\n",
      "This is step: 142\n",
      "This is step: 143\n",
      "This is step: 144\n",
      "This is step: 145\n",
      "This is step: 146\n",
      "This is step: 147\n",
      "This is step: 148\n",
      "This is step: 149\n",
      "This is step: 150\n",
      "This is step: 151\n",
      "This is step: 152\n",
      "This is step: 153\n",
      "This is step: 154\n",
      "This is step: 155\n",
      "This is step: 156\n",
      "This is step: 157\n",
      "This is step: 158\n",
      "This is step: 159\n",
      "This is step: 160\n",
      "This is step: 161\n",
      "This is step: 162\n",
      "This is step: 163\n",
      "This is step: 164\n",
      "This is step: 165\n",
      "This is step: 166\n",
      "This is step: 167\n",
      "This is step: 168\n",
      "This is step: 169\n",
      "This is step: 170\n",
      "This is step: 171\n",
      "This is step: 172\n",
      "This is step: 173\n",
      "This is step: 174\n",
      "This is step: 175\n",
      "This is step: 176\n",
      "This is step: 177\n",
      "This is step: 178\n",
      "This is step: 179\n",
      "This is step: 180\n",
      "This is step: 181\n",
      "This is step: 182\n",
      "This is step: 183\n",
      "This is step: 184\n",
      "This is step: 185\n",
      "This is step: 186\n",
      "This is step: 187\n",
      "This is step: 188\n",
      "This is step: 189\n",
      "This is step: 190\n",
      "This is step: 191\n",
      "This is step: 192\n",
      "This is step: 193\n",
      "This is step: 194\n",
      "This is step: 195\n",
      "This is step: 196\n",
      "This is step: 197\n",
      "This is step: 198\n",
      "This is step: 199\n",
      "This is step: 200\n",
      "This is step: 201\n",
      "This is step: 202\n",
      "This is step: 203\n",
      "This is step: 204\n",
      "This is step: 205\n",
      "This is step: 206\n",
      "This is step: 207\n",
      "This is step: 208\n",
      "This is step: 209\n",
      "This is step: 210\n",
      "This is step: 211\n",
      "This is step: 212\n",
      "This is step: 213\n",
      "This is step: 214\n",
      "This is step: 215\n",
      "This is step: 216\n",
      "This is step: 217\n",
      "This is step: 218\n",
      "This is step: 219\n",
      "This is step: 220\n",
      "This is step: 221\n",
      "This is step: 222\n",
      "This is step: 223\n",
      "This is step: 224\n",
      "This is step: 225\n",
      "This is step: 226\n",
      "This is step: 227\n",
      "This is step: 228\n",
      "This is step: 229\n",
      "This is step: 230\n",
      "This is step: 231\n",
      "This is step: 232\n",
      "This is step: 233\n",
      "This is step: 234\n",
      "This is step: 235\n",
      "This is step: 236\n",
      "This is step: 237\n",
      "This is step: 238\n",
      "This is step: 239\n",
      "This is step: 240\n",
      "This is step: 241\n",
      "This is step: 242\n",
      "This is step: 243\n",
      "This is step: 244\n",
      "This is step: 245\n",
      "This is step: 246\n",
      "This is step: 247\n",
      "This is step: 248\n",
      "This is step: 249\n",
      "This is step: 250\n",
      "This is step: 251\n",
      "This is step: 252\n",
      "This is step: 253\n",
      "This is step: 254\n",
      "This is step: 255\n",
      "This is step: 256\n",
      "This is step: 257\n",
      "This is step: 258\n",
      "This is step: 259\n",
      "This is step: 260\n",
      "This is step: 261\n",
      "This is step: 262\n",
      "This is step: 263\n",
      "This is step: 264\n",
      "This is step: 265\n",
      "This is step: 266\n",
      "This is step: 267\n",
      "This is step: 268\n",
      "This is step: 269\n",
      "This is step: 270\n",
      "This is step: 271\n",
      "This is step: 272\n",
      "This is step: 273\n",
      "This is step: 274\n",
      "This is step: 275\n",
      "This is step: 276\n",
      "This is step: 277\n",
      "This is step: 278\n",
      "This is step: 279\n",
      "This is step: 280\n",
      "This is step: 281\n",
      "This is step: 282\n",
      "This is step: 283\n",
      "This is step: 284\n"
     ]
    }
   ],
   "source": [
    "for i in [*range(200)]:\n",
    "\n",
    "    model.step()\n",
    "\n",
    "model_data = model.datacollector.get_model_vars_dataframe()\n",
    "citizen_data = model.datacollector.get_agent_vars_dataframe('Citizen')\n",
    "ambulance_data = model.datacollector.get_agent_vars_dataframe('Ambulance')"
   ]
  },
  {
   "cell_type": "code",
   "execution_count": null,
   "outputs": [],
   "source": [
    "import hvplot.pandas  # noqa\n",
    "\n",
    "agentData = pd.DataFrame(vars(s) for s in model.schedule.agents_by_type['Citizen'].values())\n",
    "buildingData = pd.DataFrame(vars(s) for s in model.schedule.agents_by_type['Building'].values())\n",
    "hospitalData = pd.DataFrame(vars(s) for s in model.schedule.agents_by_type['Hospital'].values())"
   ],
   "metadata": {
    "collapsed": false,
    "pycharm": {
     "is_executing": true
    }
   }
  },
  {
   "cell_type": "code",
   "execution_count": null,
   "outputs": [],
   "source": [
    "agentData['health'].value_counts()"
   ],
   "metadata": {
    "collapsed": false,
    "pycharm": {
     "is_executing": true
    }
   }
  },
  {
   "cell_type": "code",
   "execution_count": null,
   "outputs": [],
   "source": [
    "collapse_plot = buildingData.value_counts(subset='state', sort = False)\n",
    "collapse_plot.hvplot.barh(y = '0', ylabel='count')"
   ],
   "metadata": {
    "collapsed": false,
    "pycharm": {
     "is_executing": true
    }
   }
  },
  {
   "cell_type": "code",
   "execution_count": null,
   "outputs": [],
   "source": [
    "health_plot = citizen_data.groupby(['Step','Health']).size().sort_index(level = 1, ascending= False)\n",
    "health_plot = health_plot.loc[(slice(None),[0,1,2,3,4,5,6,7,8,9,10,11,12])].sort_index(level = 1, ascending= False)\n",
    "health_plot.hvplot.line(x='Step',by='Health', stacked = True).opts(height = 700)"
   ],
   "metadata": {
    "collapsed": false,
    "pycharm": {
     "is_executing": true
    }
   }
  },
  {
   "cell_type": "code",
   "execution_count": null,
   "outputs": [],
   "source": [
    "health_plot.index.get_level_values(1)"
   ],
   "metadata": {
    "collapsed": false,
    "pycharm": {
     "is_executing": true
    }
   }
  },
  {
   "cell_type": "code",
   "execution_count": null,
   "outputs": [],
   "source": [
    "import hvplot.pandas  # noqa\n",
    "\n",
    "agentData2 = pd.DataFrame(vars(s) for s in model.schedule.agents_by_type['Citizen'].values())\n",
    "buildingData2 = pd.DataFrame(vars(s) for s in model.schedule.agents_by_type['Building'].values())\n",
    "hospitalData2 = pd.DataFrame(vars(s) for s in model.schedule.agents_by_type['Hospital'].values())"
   ],
   "metadata": {
    "collapsed": false,
    "pycharm": {
     "is_executing": true
    }
   }
  },
  {
   "cell_type": "code",
   "execution_count": null,
   "outputs": [],
   "source": [
    "status_plot = ambulance_data.groupby(['Step','Ambulance Status']).count()\n",
    "status_plot.hvplot.bar(stacked = True).opts(height = 700)"
   ],
   "metadata": {
    "collapsed": false,
    "pycharm": {
     "is_executing": true
    }
   }
  },
  {
   "cell_type": "code",
   "execution_count": null,
   "id": "522a1c71",
   "metadata": {
    "pycharm": {
     "is_executing": true
    }
   },
   "outputs": [],
   "source": [
    "import hvplot.networkx as hvnx\n",
    "import hvplot\n",
    "import numpy as np\n",
    "\n",
    "import networkx as nx\n",
    "import holoviews as hv\n",
    "hv.extension('bokeh')\n",
    "\n",
    "back = hvnx.draw(G=model.G, pos = dict(model.G.nodes.data('pos')), node_size = 1, edge_width = 0.5)\n",
    "\n",
    "def get_buildings_position(building):\n",
    "    position = building.position\n",
    "    data = list(position)\n",
    "    status = color_from_status(building.state)\n",
    "    data.append(status)\n",
    "    return data\n",
    "\n",
    "def color_from_status(status):\n",
    "    if status == 0:\n",
    "        return 'green'\n",
    "    if status ==  1:\n",
    "        return 'yellow'\n",
    "    if status ==  2:\n",
    "        return 'orange'\n",
    "    if status ==  3:\n",
    "        return 'red'"
   ]
  },
  {
   "cell_type": "code",
   "execution_count": null,
   "id": "bec87d51",
   "metadata": {
    "pycharm": {
     "is_executing": true
    }
   },
   "outputs": [],
   "source": [
    "buildings_pos_list = [get_buildings_position(agent) for agent in model.schedule.agents_by_type['Building'].values()]\n",
    "hospital_pos_list = [get_buildings_position(agent) for agent in model.schedule.agents_by_type['Hospital'].values()]\n",
    "\n",
    "buildingPoints = hv.Points(buildings_pos_list, vdims=['status']).opts(size = 5, color ='status')\n",
    "hospitalPoints = hv.Points(hospital_pos_list).opts(size = 8, color = 'blue', marker='1')\n",
    "\n",
    "(back * hospitalPoints * buildingPoints).opts(width =800,height=800)"
   ]
  },
  {
   "cell_type": "code",
   "execution_count": null,
   "outputs": [],
   "source": [],
   "metadata": {
    "collapsed": false,
    "pycharm": {
     "is_executing": true
    }
   }
  }
 ],
 "metadata": {
  "kernelspec": {
   "display_name": "Python 3 (ipykernel)",
   "language": "python",
   "name": "python3"
  },
  "language_info": {
   "codemirror_mode": {
    "name": "ipython",
    "version": 3
   },
   "file_extension": ".py",
   "mimetype": "text/x-python",
   "name": "python",
   "nbconvert_exporter": "python",
   "pygments_lexer": "ipython3",
   "version": "3.8.15"
  },
  "vscode": {
   "interpreter": {
    "hash": "e2fd2631c7b47c37dc6bffb9af1c3fc56da6c8e4c0a3d879adc1ef73c6a6ec07"
   }
  }
 },
 "nbformat": 4,
 "nbformat_minor": 5
}
