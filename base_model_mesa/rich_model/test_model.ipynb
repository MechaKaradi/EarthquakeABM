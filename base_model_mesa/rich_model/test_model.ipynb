{
 "cells": [
  {
   "cell_type": "markdown",
   "source": [
    "# Testing and Model Development Notebook\n",
    "# For the Earthquake Disaster Response Simulation Model; SEN1211"
   ],
   "metadata": {
    "collapsed": false
   }
  },
  {
   "cell_type": "markdown",
   "source": [
    "Step 1: Importing external dependencies and packages for MESA + visualisation and data analysis."
   ],
   "metadata": {
    "collapsed": false
   }
  },
  {
   "cell_type": "code",
   "execution_count": 1,
   "id": "70059384-7a53-4dcf-a4e8-9331b4cfc6df",
   "metadata": {
    "tags": []
   },
   "outputs": [],
   "source": [
    "import pandas\n",
    "from mesa import Agent, Model\n",
    "import mesa.time as time\n",
    "import mesa.space as space\n",
    "from mesa.datacollection import DataCollector\n",
    "\n",
    "from enum import Enum\n",
    "import pickle\n",
    "import networkx as nx\n",
    "import pandas as pd\n",
    "import matplotlib.pyplot as plt\n",
    "import random"
   ]
  },
  {
   "cell_type": "markdown",
   "source": [
    "Step 1.1:  Import Agents from agents.py file"
   ],
   "metadata": {
    "collapsed": false
   }
  },
  {
   "cell_type": "code",
   "execution_count": 2,
   "outputs": [],
   "source": [
    "from agents import MinimalAgent, Buildings\n",
    "from model import  MinimalModel"
   ],
   "metadata": {
    "collapsed": false
   }
  },
  {
   "cell_type": "code",
   "execution_count": 3,
   "id": "fe8299e7-9aa3-4f77-9f96-28e2889d8a4a",
   "metadata": {
    "tags": []
   },
   "outputs": [],
   "source": [
    "\"\"\" Model metrics\"\"\"\n",
    "def count_agents(self):\n",
    "    return self.num_agents"
   ]
  },
  {
   "cell_type": "code",
   "execution_count": 4,
   "id": "71c081e2-b5bb-4fc5-a5c8-c378c0faeb99",
   "metadata": {
    "tags": []
   },
   "outputs": [
    {
     "name": "stdout",
     "output_type": "stream",
     "text": [
      "5131\n",
      "12868\n",
      "8960\n",
      "337\n",
      "6966\n",
      "6401\n",
      "14260\n",
      "6130\n",
      "1073\n",
      "3557\n",
      "#50c030\n",
      "5131\n",
      "#50a0a0\n",
      "12868\n",
      "#c0d0b0\n",
      "8960\n",
      "#5070d0\n",
      "337\n",
      "#40c020\n",
      "6966\n",
      "#301080\n",
      "6401\n",
      "#b04060\n",
      "14260\n",
      "#2040e0\n",
      "6130\n",
      "#f0c070\n",
      "1073\n",
      "#50a030\n",
      "3557\n"
     ]
    }
   ],
   "source": [
    "\"\"\" Run Model\n",
    "\"\"\"\n",
    "\n",
    "model = MinimalModel()\n",
    "\n",
    "\n",
    "# Get the Pandas Dataframe from the model, by using the table name we defined in the model\n"
   ]
  },
  {
   "cell_type": "markdown",
   "source": [
    "Quick and dirty visualisation of the number and types and properties of the agents in the simulation"
   ],
   "metadata": {
    "collapsed": false
   }
  },
  {
   "cell_type": "code",
   "execution_count": 8,
   "outputs": [
    {
     "name": "stdout",
     "output_type": "stream",
     "text": [
      "This is step: 3\n",
      "Hello world! I am agent: 100005\n",
      " my node id is: 6401\n",
      " my color is: #506000\n",
      "Hello world! I am agent: 200009\n",
      " my node id is: 3557\n",
      " my color is: #50a030\n",
      "Hello world! I am agent: 100007\n",
      " my node id is: 6130\n",
      " my color is: #a0d070\n",
      "Hello world! I am agent: 200008\n",
      " my node id is: 1073\n",
      " my color is: #f0c070\n",
      "Hello world! I am agent: 100006\n",
      " my node id is: 14260\n",
      " my color is: #80e0a0\n",
      "Hello world! I am agent: 200007\n",
      " my node id is: 6130\n",
      " my color is: #2040e0\n",
      "Hello world! I am agent: 100004\n",
      " my node id is: 6966\n",
      " my color is: #80c070\n",
      "Hello world! I am agent: 100008\n",
      " my node id is: 1073\n",
      " my color is: #50b010\n",
      "Hello world! I am agent: 200000\n",
      " my node id is: 5131\n",
      " my color is: #50c030\n",
      "Hello world! I am agent: 200005\n",
      " my node id is: 6401\n",
      " my color is: #301080\n",
      "Hello world! I am agent: 200004\n",
      " my node id is: 6966\n",
      " my color is: #40c020\n",
      "Hello world! I am agent: 100009\n",
      " my node id is: 3557\n",
      " my color is: #a0e0e0\n",
      "Hello world! I am agent: 100003\n",
      " my node id is: 337\n",
      " my color is: #907000\n",
      "Hello world! I am agent: 200003\n",
      " my node id is: 337\n",
      " my color is: #5070d0\n",
      "Hello world! I am agent: 100000\n",
      " my node id is: 5131\n",
      " my color is: #b0b0f0\n",
      "Hello world! I am agent: 200001\n",
      " my node id is: 12868\n",
      " my color is: #50a0a0\n",
      "Hello world! I am agent: 200002\n",
      " my node id is: 8960\n",
      " my color is: #c0d0b0\n",
      "Hello world! I am agent: 100001\n",
      " my node id is: 12868\n",
      " my color is: #70c0e0\n",
      "Hello world! I am agent: 200006\n",
      " my node id is: 14260\n",
      " my color is: #b04060\n",
      "Hello world! I am agent: 100002\n",
      " my node id is: 8960\n",
      " my color is: #c0a0a0\n",
      "   Number of Agents\n",
      "0                10\n",
      "1                10\n",
      "2                10\n",
      "3                10\n",
      "4                10\n",
      "              Agent ID Agent Colour                         family\n",
      "Step AgentID                                                      \n",
      "0    100000     100000      #b0b0f0  <class 'agents.MinimalAgent'>\n",
      "     100001     100001      #70c0e0  <class 'agents.MinimalAgent'>\n",
      "     100002     100002      #c0a0a0  <class 'agents.MinimalAgent'>\n",
      "     100003     100003      #907000  <class 'agents.MinimalAgent'>\n",
      "     100004     100004      #80c070  <class 'agents.MinimalAgent'>\n",
      "...                ...          ...                            ...\n",
      "4    200005     200005      #301080     <class 'agents.Buildings'>\n",
      "     200006     200006      #b04060     <class 'agents.Buildings'>\n",
      "     200007     200007      #2040e0     <class 'agents.Buildings'>\n",
      "     200008     200008      #f0c070     <class 'agents.Buildings'>\n",
      "     200009     200009      #50a030     <class 'agents.Buildings'>\n",
      "\n",
      "[100 rows x 3 columns]\n"
     ]
    }
   ],
   "source": [
    "model.step()\n",
    "\n",
    "model_data = model.datacollector.get_model_vars_dataframe()\n",
    "agent_data = model.datacollector.get_agent_vars_dataframe()\n",
    "print(model_data)\n",
    "print(agent_data)\n",
    "\n",
    "graph = model.G\n",
    "\n",
    "datadump = pandas.DataFrame.from_dict(model.G._node, orient=\"index\")"
   ],
   "metadata": {
    "collapsed": false
   }
  },
  {
   "cell_type": "code",
   "execution_count": 25,
   "outputs": [
    {
     "name": "stdout",
     "output_type": "stream",
     "text": [
      "Hello world! I am agent: 100000\n",
      " my node id is: 5131\n",
      " my color is: #b0b0f0\n",
      "None\n",
      "Hello world! I am agent: 100001\n",
      " my node id is: 12868\n",
      " my color is: #70c0e0\n",
      "None\n",
      "Hello world! I am agent: 100002\n",
      " my node id is: 8960\n",
      " my color is: #c0a0a0\n",
      "None\n",
      "Hello world! I am agent: 100003\n",
      " my node id is: 337\n",
      " my color is: #907000\n",
      "None\n",
      "Hello world! I am agent: 100004\n",
      " my node id is: 6966\n",
      " my color is: #80c070\n",
      "None\n",
      "Hello world! I am agent: 100005\n",
      " my node id is: 6401\n",
      " my color is: #506000\n",
      "None\n",
      "Hello world! I am agent: 100006\n",
      " my node id is: 14260\n",
      " my color is: #80e0a0\n",
      "None\n",
      "Hello world! I am agent: 100007\n",
      " my node id is: 6130\n",
      " my color is: #a0d070\n",
      "None\n",
      "Hello world! I am agent: 100008\n",
      " my node id is: 1073\n",
      " my color is: #50b010\n",
      "None\n",
      "Hello world! I am agent: 100009\n",
      " my node id is: 3557\n",
      " my color is: #a0e0e0\n",
      "None\n",
      "Hello world! I am agent: 200000\n",
      " my node id is: 5131\n",
      " my color is: #50c030\n",
      "None\n",
      "Hello world! I am agent: 200001\n",
      " my node id is: 12868\n",
      " my color is: #50a0a0\n",
      "None\n",
      "Hello world! I am agent: 200002\n",
      " my node id is: 8960\n",
      " my color is: #c0d0b0\n",
      "None\n",
      "Hello world! I am agent: 200003\n",
      " my node id is: 337\n",
      " my color is: #5070d0\n",
      "None\n",
      "Hello world! I am agent: 200004\n",
      " my node id is: 6966\n",
      " my color is: #40c020\n",
      "None\n",
      "Hello world! I am agent: 200005\n",
      " my node id is: 6401\n",
      " my color is: #301080\n",
      "None\n",
      "Hello world! I am agent: 200006\n",
      " my node id is: 14260\n",
      " my color is: #b04060\n",
      "None\n",
      "Hello world! I am agent: 200007\n",
      " my node id is: 6130\n",
      " my color is: #2040e0\n",
      "None\n",
      "Hello world! I am agent: 200008\n",
      " my node id is: 1073\n",
      " my color is: #f0c070\n",
      "None\n",
      "Hello world! I am agent: 200009\n",
      " my node id is: 3557\n",
      " my color is: #50a030\n",
      "None\n"
     ]
    }
   ],
   "source": [
    "for a in model.schedule.agent_buffer():\n",
    "    print(a.step())"
   ],
   "metadata": {
    "collapsed": false
   }
  }
 ],
 "metadata": {
  "kernelspec": {
   "display_name": "Python 3.8.15 ('SEN1121')",
   "language": "python",
   "name": "python3"
  },
  "language_info": {
   "codemirror_mode": {
    "name": "ipython",
    "version": 3
   },
   "file_extension": ".py",
   "mimetype": "text/x-python",
   "name": "python",
   "nbconvert_exporter": "python",
   "pygments_lexer": "ipython3",
   "version": "3.8.15"
  },
  "vscode": {
   "interpreter": {
    "hash": "e2fd2631c7b47c37dc6bffb9af1c3fc56da6c8e4c0a3d879adc1ef73c6a6ec07"
   }
  }
 },
 "nbformat": 4,
 "nbformat_minor": 5
}
