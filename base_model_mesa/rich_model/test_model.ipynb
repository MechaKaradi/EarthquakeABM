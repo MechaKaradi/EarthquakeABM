{
 "cells": [
  {
   "cell_type": "markdown",
   "source": [
    "# Testing and Model Development Notebook\n",
    "# For the Earthquake Disaster Response Simulation Model; SEN1211"
   ],
   "metadata": {
    "collapsed": false
   }
  },
  {
   "cell_type": "markdown",
   "source": [
    "Step 1: Importing external dependencies and packages for MESA + visualisation and data analysis."
   ],
   "metadata": {
    "collapsed": false
   }
  },
  {
   "cell_type": "code",
   "execution_count": 1,
   "id": "70059384-7a53-4dcf-a4e8-9331b4cfc6df",
   "metadata": {
    "tags": []
   },
   "outputs": [],
   "source": [
    "import pandas\n",
    "from mesa import Agent, Model\n",
    "import mesa.time as time\n",
    "import mesa.space as space\n",
    "from mesa.datacollection import DataCollector\n",
    "\n",
    "from enum import Enum\n",
    "import pickle\n",
    "import networkx as nx\n",
    "import pandas as pd\n",
    "import matplotlib.pyplot as plt\n",
    "import random"
   ]
  },
  {
   "cell_type": "markdown",
   "source": [
    "Step 1.1:  Import Agents from agents.py file"
   ],
   "metadata": {
    "collapsed": false
   }
  },
  {
   "cell_type": "code",
   "execution_count": 2,
   "outputs": [],
   "source": [
    "from agents import MinimalAgent, Buildings, MobileAgent\n",
    "from model import  MinimalModel"
   ],
   "metadata": {
    "collapsed": false
   }
  },
  {
   "cell_type": "code",
   "execution_count": 3,
   "id": "fe8299e7-9aa3-4f77-9f96-28e2889d8a4a",
   "metadata": {
    "tags": []
   },
   "outputs": [],
   "source": [
    "\"\"\" Model metrics\"\"\"\n",
    "def count_agents(self):\n",
    "    return self.num_agents"
   ]
  },
  {
   "cell_type": "code",
   "execution_count": 4,
   "id": "71c081e2-b5bb-4fc5-a5c8-c378c0faeb99",
   "metadata": {
    "tags": []
   },
   "outputs": [
    {
     "name": "stdout",
     "output_type": "stream",
     "text": [
      "14593\n",
      "2792\n",
      "13514\n",
      "10603\n",
      "4812\n",
      "#202090\n",
      "14593\n",
      "#c060b0\n",
      "2792\n",
      "#103050\n",
      "13514\n",
      "#0020e0\n",
      "10603\n",
      "#00d0e0\n",
      "4812\n"
     ]
    }
   ],
   "source": [
    "\"\"\" Run Model\n",
    "\"\"\"\n",
    "\n",
    "model = MinimalModel()\n",
    "\n",
    "\n",
    "# Get the Pandas Dataframe from the model, by using the table name we defined in the model\n"
   ]
  },
  {
   "cell_type": "markdown",
   "source": [
    "Quick and dirty visualisation of the number and types and properties of the agents in the simulation"
   ],
   "metadata": {
    "collapsed": false
   }
  },
  {
   "cell_type": "code",
   "execution_count": 5,
   "outputs": [
    {
     "name": "stdout",
     "output_type": "stream",
     "text": [
      "This is step: 0\n",
      "Hello world! I am agent: 100002\n",
      " my node id is: 13514\n",
      " my color is: #9020c0\n",
      "Hello world! I am agent: 300004\n",
      " my node id is: 4812\n",
      " my color is: #300090\n",
      "Hello world! I am agent: 200001\n",
      " my node id is: 2792\n",
      " my color is: #c060b0\n",
      "Hello world! I am agent: 200003\n",
      " my node id is: 10603\n",
      " my color is: #0020e0\n",
      "Hello world! I am agent: 100004\n",
      " my node id is: 4812\n",
      " my color is: #003070\n",
      "Hello world! I am agent: 300000\n",
      " my node id is: 14593\n",
      " my color is: #e08020\n",
      "Hello world! I am agent: 100001\n",
      " my node id is: 2792\n",
      " my color is: #7020b0\n",
      "Hello world! I am agent: 200004\n",
      " my node id is: 4812\n",
      " my color is: #00d0e0\n",
      "Hello world! I am agent: 200000\n",
      " my node id is: 14593\n",
      " my color is: #202090\n",
      "Hello world! I am agent: 200002\n",
      " my node id is: 13514\n",
      " my color is: #103050\n",
      "Hello world! I am agent: 300003\n",
      " my node id is: 10603\n",
      " my color is: #c04010\n",
      "Hello world! I am agent: 100000\n",
      " my node id is: 14593\n",
      " my color is: #80f0f0\n",
      "Hello world! I am agent: 100003\n",
      " my node id is: 10603\n",
      " my color is: #a05010\n",
      "Hello world! I am agent: 300001\n",
      " my node id is: 2792\n",
      " my color is: #d0f0f0\n",
      "Hello world! I am agent: 300002\n",
      " my node id is: 13514\n",
      " my color is: #20b0a0\n",
      "   Number of Agents\n",
      "0                 5\n",
      "1                 5\n",
      "              Agent ID Agent Colour                         family\n",
      "Step AgentID                                                      \n",
      "0    100000     100000      #80f0f0  <class 'agents.MinimalAgent'>\n",
      "     100001     100001      #7020b0  <class 'agents.MinimalAgent'>\n",
      "     100002     100002      #9020c0  <class 'agents.MinimalAgent'>\n",
      "     100003     100003      #a05010  <class 'agents.MinimalAgent'>\n",
      "     100004     100004      #003070  <class 'agents.MinimalAgent'>\n",
      "     200000     200000      #202090     <class 'agents.Buildings'>\n",
      "     200001     200001      #c060b0     <class 'agents.Buildings'>\n",
      "     200002     200002      #103050     <class 'agents.Buildings'>\n",
      "     200003     200003      #0020e0     <class 'agents.Buildings'>\n",
      "     200004     200004      #00d0e0     <class 'agents.Buildings'>\n",
      "     300000     300000      #e08020   <class 'agents.MobileAgent'>\n",
      "     300001     300001      #d0f0f0   <class 'agents.MobileAgent'>\n",
      "     300002     300002      #20b0a0   <class 'agents.MobileAgent'>\n",
      "     300003     300003      #c04010   <class 'agents.MobileAgent'>\n",
      "     300004     300004      #300090   <class 'agents.MobileAgent'>\n",
      "1    100000     100000      #80f0f0  <class 'agents.MinimalAgent'>\n",
      "     100001     100001      #7020b0  <class 'agents.MinimalAgent'>\n",
      "     100002     100002      #9020c0  <class 'agents.MinimalAgent'>\n",
      "     100003     100003      #a05010  <class 'agents.MinimalAgent'>\n",
      "     100004     100004      #003070  <class 'agents.MinimalAgent'>\n",
      "     200000     200000      #202090     <class 'agents.Buildings'>\n",
      "     200001     200001      #c060b0     <class 'agents.Buildings'>\n",
      "     200002     200002      #103050     <class 'agents.Buildings'>\n",
      "     200003     200003      #0020e0     <class 'agents.Buildings'>\n",
      "     200004     200004      #00d0e0     <class 'agents.Buildings'>\n",
      "     300000     300000      #e08020   <class 'agents.MobileAgent'>\n",
      "     300001     300001      #d0f0f0   <class 'agents.MobileAgent'>\n",
      "     300002     300002      #20b0a0   <class 'agents.MobileAgent'>\n",
      "     300003     300003      #c04010   <class 'agents.MobileAgent'>\n",
      "     300004     300004      #300090   <class 'agents.MobileAgent'>\n"
     ]
    }
   ],
   "source": [
    "model.step()\n",
    "\n",
    "model_data = model.datacollector.get_model_vars_dataframe()\n",
    "agent_data = model.datacollector.get_agent_vars_dataframe()\n",
    "print(model_data)\n",
    "print(agent_data)\n",
    "\n",
    "graph = model.G\n",
    "\n",
    "datadump = pandas.DataFrame.from_dict(model.G._node, orient=\"index\")"
   ],
   "metadata": {
    "collapsed": false
   }
  },
  {
   "cell_type": "code",
   "execution_count": 6,
   "outputs": [
    {
     "name": "stdout",
     "output_type": "stream",
     "text": [
      "Hello world! I am agent: 100000\n",
      " my node id is: 14593\n",
      " my color is: #80f0f0\n",
      "Hello world! I am agent: 100001\n",
      " my node id is: 2792\n",
      " my color is: #7020b0\n",
      "Hello world! I am agent: 100002\n",
      " my node id is: 13514\n",
      " my color is: #9020c0\n",
      "Hello world! I am agent: 100003\n",
      " my node id is: 10603\n",
      " my color is: #a05010\n",
      "Hello world! I am agent: 100004\n",
      " my node id is: 4812\n",
      " my color is: #003070\n",
      "Hello world! I am agent: 200000\n",
      " my node id is: 14593\n",
      " my color is: #202090\n",
      "Hello world! I am agent: 200001\n",
      " my node id is: 2792\n",
      " my color is: #c060b0\n",
      "Hello world! I am agent: 200002\n",
      " my node id is: 13514\n",
      " my color is: #103050\n",
      "Hello world! I am agent: 200003\n",
      " my node id is: 10603\n",
      " my color is: #0020e0\n",
      "Hello world! I am agent: 200004\n",
      " my node id is: 4812\n",
      " my color is: #00d0e0\n",
      "Hello world! I am agent: 300000\n",
      " my node id is: 14593\n",
      " my color is: #e08020\n",
      "Hello world! I am agent: 300001\n",
      " my node id is: 2792\n",
      " my color is: #d0f0f0\n",
      "Hello world! I am agent: 300002\n",
      " my node id is: 13514\n",
      " my color is: #20b0a0\n",
      "Hello world! I am agent: 300003\n",
      " my node id is: 10603\n",
      " my color is: #c04010\n",
      "Hello world! I am agent: 300004\n",
      " my node id is: 4812\n",
      " my color is: #300090\n"
     ]
    }
   ],
   "source": [
    "for a in model.schedule.agent_buffer():\n",
    "    a.step()"
   ],
   "metadata": {
    "collapsed": false
   }
  },
  {
   "cell_type": "markdown",
   "source": [
    "Testing the alternative Agent creation functions\n"
   ],
   "metadata": {
    "collapsed": false
   }
  },
  {
   "cell_type": "code",
   "execution_count": 7,
   "outputs": [],
   "source": [
    "alpha = model.create_agents(MinimalAgent)\n",
    "alpha(100)\n",
    "alpha(102)\n",
    "\n",
    "beta = model.create_agents(MobileAgent)\n",
    "check = beta(101)\n"
   ],
   "metadata": {
    "collapsed": false
   }
  },
  {
   "cell_type": "code",
   "execution_count": 8,
   "outputs": [],
   "source": [
    "check2 = check.find_path(10000)"
   ],
   "metadata": {
    "collapsed": false
   }
  },
  {
   "cell_type": "markdown",
   "source": [],
   "metadata": {
    "collapsed": false
   }
  }
 ],
 "metadata": {
  "kernelspec": {
   "display_name": "Python 3.8.15 ('SEN1121')",
   "language": "python",
   "name": "python3"
  },
  "language_info": {
   "codemirror_mode": {
    "name": "ipython",
    "version": 3
   },
   "file_extension": ".py",
   "mimetype": "text/x-python",
   "name": "python",
   "nbconvert_exporter": "python",
   "pygments_lexer": "ipython3",
   "version": "3.8.15"
  },
  "vscode": {
   "interpreter": {
    "hash": "e2fd2631c7b47c37dc6bffb9af1c3fc56da6c8e4c0a3d879adc1ef73c6a6ec07"
   }
  }
 },
 "nbformat": 4,
 "nbformat_minor": 5
}
