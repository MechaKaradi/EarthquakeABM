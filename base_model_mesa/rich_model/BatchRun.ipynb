{
 "cells": [
  {
   "cell_type": "code",
   "execution_count": 1,
   "id": "f3c1ebfc",
   "metadata": {},
   "outputs": [
    {
     "name": "stderr",
     "output_type": "stream",
     "text": [
      "C:\\Users\\Kaninik\\AppData\\Local\\Temp\\ipykernel_28396\\648652038.py:62: DeprecationWarning: BatchRunner class has been replaced by batch_run function. Please see documentation.\n",
      "  batch_run = BatchrunnerExtender(MinimalModel, parameters, max_steps=5, model_reporters={})\n",
      "0it [00:00, ?it/s]"
     ]
    },
    {
     "name": "stdout",
     "output_type": "stream",
     "text": [
      "This is step: 0\n",
      "This is step: 1\n",
      "This is step: 2\n"
     ]
    },
    {
     "name": "stderr",
     "output_type": "stream",
     "text": [
      "1it [00:00,  1.43it/s]"
     ]
    },
    {
     "name": "stdout",
     "output_type": "stream",
     "text": [
      "This is step: 3\n",
      "This is step: 4\n",
      "This is step: 0\n",
      "This is step: 1\n",
      "This is step: 2\n"
     ]
    },
    {
     "name": "stderr",
     "output_type": "stream",
     "text": [
      "2it [00:01,  1.44it/s]"
     ]
    },
    {
     "name": "stdout",
     "output_type": "stream",
     "text": [
      "This is step: 3\n",
      "This is step: 4\n",
      "This is step: 0\n",
      "This is step: 1\n",
      "This is step: 2\n"
     ]
    },
    {
     "name": "stderr",
     "output_type": "stream",
     "text": [
      "3it [00:02,  1.10it/s]"
     ]
    },
    {
     "name": "stdout",
     "output_type": "stream",
     "text": [
      "This is step: 3\n",
      "This is step: 4\n",
      "This is step: 0\n",
      "This is step: 1\n",
      "This is step: 2\n",
      "This is step: 3\n"
     ]
    },
    {
     "name": "stderr",
     "output_type": "stream",
     "text": [
      "4it [00:03,  1.24it/s]"
     ]
    },
    {
     "name": "stdout",
     "output_type": "stream",
     "text": [
      "This is step: 4\n",
      "This is step: 0\n",
      "This is step: 1\n",
      "This is step: 2\n"
     ]
    },
    {
     "name": "stderr",
     "output_type": "stream",
     "text": [
      "5it [00:03,  1.27it/s]"
     ]
    },
    {
     "name": "stdout",
     "output_type": "stream",
     "text": [
      "This is step: 3\n",
      "This is step: 4\n",
      "This is step: 0\n",
      "This is step: 1\n",
      "This is step: 2\n",
      "This is step: 3\n"
     ]
    },
    {
     "name": "stderr",
     "output_type": "stream",
     "text": [
      "6it [00:04,  1.24it/s]"
     ]
    },
    {
     "name": "stdout",
     "output_type": "stream",
     "text": [
      "This is step: 4\n"
     ]
    },
    {
     "name": "stderr",
     "output_type": "stream",
     "text": [
      "7it [00:05,  1.34it/s]"
     ]
    },
    {
     "name": "stdout",
     "output_type": "stream",
     "text": [
      "This is step: 0\n",
      "This is step: 1\n",
      "This is step: 2\n",
      "This is step: 3\n",
      "This is step: 4\n",
      "This is step: 0\n",
      "This is step: 1\n",
      "This is step: 2\n"
     ]
    },
    {
     "name": "stderr",
     "output_type": "stream",
     "text": [
      "8it [00:06,  1.27it/s]"
     ]
    },
    {
     "name": "stdout",
     "output_type": "stream",
     "text": [
      "This is step: 3\n",
      "This is step: 4\n",
      "This is step: 0\n",
      "This is step: 1\n",
      "This is step: 2\n"
     ]
    },
    {
     "name": "stderr",
     "output_type": "stream",
     "text": [
      "9it [00:07,  1.13it/s]"
     ]
    },
    {
     "name": "stdout",
     "output_type": "stream",
     "text": [
      "This is step: 3\n",
      "This is step: 4\n"
     ]
    },
    {
     "name": "stderr",
     "output_type": "stream",
     "text": [
      "10it [00:07,  1.27it/s]"
     ]
    },
    {
     "name": "stdout",
     "output_type": "stream",
     "text": [
      "This is step: 0\n",
      "This is step: 1\n",
      "This is step: 2\n",
      "This is step: 3\n",
      "This is step: 4\n",
      "This is step: 0\n",
      "This is step: 1\n",
      "This is step: 2\n"
     ]
    },
    {
     "name": "stderr",
     "output_type": "stream",
     "text": [
      "11it [00:08,  1.17it/s]"
     ]
    },
    {
     "name": "stdout",
     "output_type": "stream",
     "text": [
      "This is step: 3\n",
      "This is step: 4\n",
      "This is step: 0\n",
      "This is step: 1\n",
      "This is step: 2\n"
     ]
    },
    {
     "name": "stderr",
     "output_type": "stream",
     "text": [
      "12it [00:09,  1.17it/s]"
     ]
    },
    {
     "name": "stdout",
     "output_type": "stream",
     "text": [
      "This is step: 3\n",
      "This is step: 4\n"
     ]
    },
    {
     "name": "stderr",
     "output_type": "stream",
     "text": [
      "13it [00:10,  1.27it/s]"
     ]
    },
    {
     "name": "stdout",
     "output_type": "stream",
     "text": [
      "This is step: 0\n",
      "This is step: 1\n",
      "This is step: 2\n",
      "This is step: 3\n",
      "This is step: 4\n",
      "This is step: 0\n",
      "This is step: 1\n",
      "This is step: 2\n"
     ]
    },
    {
     "name": "stderr",
     "output_type": "stream",
     "text": [
      "14it [00:11,  1.21it/s]"
     ]
    },
    {
     "name": "stdout",
     "output_type": "stream",
     "text": [
      "This is step: 3\n",
      "This is step: 4\n",
      "This is step: 0\n",
      "This is step: 1\n",
      "This is step: 2\n"
     ]
    },
    {
     "name": "stderr",
     "output_type": "stream",
     "text": [
      "15it [00:12,  1.15it/s]"
     ]
    },
    {
     "name": "stdout",
     "output_type": "stream",
     "text": [
      "This is step: 3\n",
      "This is step: 4\n"
     ]
    },
    {
     "name": "stderr",
     "output_type": "stream",
     "text": [
      "16it [00:12,  1.29it/s]"
     ]
    },
    {
     "name": "stdout",
     "output_type": "stream",
     "text": [
      "This is step: 0\n",
      "This is step: 1\n",
      "This is step: 2\n",
      "This is step: 3\n",
      "This is step: 4\n",
      "This is step: 0\n",
      "This is step: 1\n",
      "This is step: 2\n"
     ]
    },
    {
     "name": "stderr",
     "output_type": "stream",
     "text": [
      "17it [00:13,  1.25it/s]"
     ]
    },
    {
     "name": "stdout",
     "output_type": "stream",
     "text": [
      "This is step: 3\n",
      "This is step: 4\n",
      "This is step: 0\n",
      "This is step: 1\n",
      "This is step: 2\n",
      "This is step: 3\n"
     ]
    },
    {
     "name": "stderr",
     "output_type": "stream",
     "text": [
      "18it [00:15,  1.01it/s]"
     ]
    },
    {
     "name": "stdout",
     "output_type": "stream",
     "text": [
      "This is step: 4\n",
      "This is step: 0\n",
      "This is step: 1\n",
      "This is step: 2\n",
      "This is step: 3\n",
      "This is step: 4\n"
     ]
    },
    {
     "name": "stderr",
     "output_type": "stream",
     "text": [
      "19it [00:15,  1.14it/s]"
     ]
    },
    {
     "name": "stdout",
     "output_type": "stream",
     "text": [
      "This is step: 0\n",
      "This is step: 1\n",
      "This is step: 2\n"
     ]
    },
    {
     "name": "stderr",
     "output_type": "stream",
     "text": [
      "20it [00:16,  1.13it/s]"
     ]
    },
    {
     "name": "stdout",
     "output_type": "stream",
     "text": [
      "This is step: 3\n",
      "This is step: 4\n",
      "This is step: 0\n",
      "This is step: 1\n",
      "This is step: 2\n"
     ]
    },
    {
     "name": "stderr",
     "output_type": "stream",
     "text": [
      "21it [00:17,  1.17it/s]"
     ]
    },
    {
     "name": "stdout",
     "output_type": "stream",
     "text": [
      "This is step: 3\n",
      "This is step: 4\n"
     ]
    },
    {
     "name": "stderr",
     "output_type": "stream",
     "text": [
      "22it [00:18,  1.29it/s]"
     ]
    },
    {
     "name": "stdout",
     "output_type": "stream",
     "text": [
      "This is step: 0\n",
      "This is step: 1\n",
      "This is step: 2\n",
      "This is step: 3\n",
      "This is step: 4\n",
      "This is step: 0\n",
      "This is step: 1\n",
      "This is step: 2\n"
     ]
    },
    {
     "name": "stderr",
     "output_type": "stream",
     "text": [
      "23it [00:19,  1.22it/s]"
     ]
    },
    {
     "name": "stdout",
     "output_type": "stream",
     "text": [
      "This is step: 3\n",
      "This is step: 4\n",
      "This is step: 0\n",
      "This is step: 1\n",
      "This is step: 2\n",
      "This is step: 3\n"
     ]
    },
    {
     "name": "stderr",
     "output_type": "stream",
     "text": [
      "24it [00:20,  1.08it/s]"
     ]
    },
    {
     "name": "stdout",
     "output_type": "stream",
     "text": [
      "This is step: 4\n"
     ]
    },
    {
     "name": "stderr",
     "output_type": "stream",
     "text": [
      "25it [00:20,  1.22it/s]"
     ]
    },
    {
     "name": "stdout",
     "output_type": "stream",
     "text": [
      "This is step: 0\n",
      "This is step: 1\n",
      "This is step: 2\n",
      "This is step: 3\n",
      "This is step: 4\n",
      "This is step: 0\n",
      "This is step: 1\n",
      "This is step: 2\n"
     ]
    },
    {
     "name": "stderr",
     "output_type": "stream",
     "text": [
      "26it [00:21,  1.19it/s]"
     ]
    },
    {
     "name": "stdout",
     "output_type": "stream",
     "text": [
      "This is step: 3\n",
      "This is step: 4\n",
      "This is step: 0\n",
      "This is step: 1\n",
      "This is step: 2\n",
      "This is step: 3\n",
      "This is step: 4\n"
     ]
    },
    {
     "name": "stderr",
     "output_type": "stream",
     "text": [
      "28it [00:23,  1.20it/s]"
     ]
    },
    {
     "name": "stdout",
     "output_type": "stream",
     "text": [
      "This is step: 0\n",
      "This is step: 1\n",
      "This is step: 2\n",
      "This is step: 3\n",
      "This is step: 4\n",
      "This is step: 0\n",
      "This is step: 1\n",
      "This is step: 2\n",
      "This is step: 3\n"
     ]
    },
    {
     "name": "stderr",
     "output_type": "stream",
     "text": [
      "29it [00:24,  1.24it/s]"
     ]
    },
    {
     "name": "stdout",
     "output_type": "stream",
     "text": [
      "This is step: 4\n",
      "This is step: 0\n",
      "This is step: 1\n",
      "This is step: 2\n",
      "This is step: 3\n"
     ]
    },
    {
     "name": "stderr",
     "output_type": "stream",
     "text": [
      "30it [00:25,  1.17it/s]"
     ]
    },
    {
     "name": "stdout",
     "output_type": "stream",
     "text": [
      "This is step: 4\n"
     ]
    },
    {
     "name": "stderr",
     "output_type": "stream",
     "text": [
      "31it [00:25,  1.31it/s]"
     ]
    },
    {
     "name": "stdout",
     "output_type": "stream",
     "text": [
      "This is step: 0\n",
      "This is step: 1\n",
      "This is step: 2\n",
      "This is step: 3\n",
      "This is step: 4\n",
      "This is step: 0\n",
      "This is step: 1\n",
      "This is step: 2\n",
      "This is step: 3\n"
     ]
    },
    {
     "name": "stderr",
     "output_type": "stream",
     "text": [
      "32it [00:26,  1.33it/s]"
     ]
    },
    {
     "name": "stdout",
     "output_type": "stream",
     "text": [
      "This is step: 4\n",
      "This is step: 0\n",
      "This is step: 1\n",
      "This is step: 2\n"
     ]
    },
    {
     "name": "stderr",
     "output_type": "stream",
     "text": [
      "33it [00:27,  1.10it/s]"
     ]
    },
    {
     "name": "stdout",
     "output_type": "stream",
     "text": [
      "This is step: 3\n",
      "This is step: 4\n"
     ]
    },
    {
     "name": "stderr",
     "output_type": "stream",
     "text": [
      "34it [00:28,  1.23it/s]"
     ]
    },
    {
     "name": "stdout",
     "output_type": "stream",
     "text": [
      "This is step: 0\n",
      "This is step: 1\n",
      "This is step: 2\n",
      "This is step: 3\n",
      "This is step: 4\n",
      "This is step: 0\n",
      "This is step: 1\n",
      "This is step: 2\n"
     ]
    },
    {
     "name": "stderr",
     "output_type": "stream",
     "text": [
      "35it [00:29,  1.19it/s]"
     ]
    },
    {
     "name": "stdout",
     "output_type": "stream",
     "text": [
      "This is step: 3\n",
      "This is step: 4\n",
      "This is step: 0\n",
      "This is step: 1\n",
      "This is step: 2\n"
     ]
    },
    {
     "name": "stderr",
     "output_type": "stream",
     "text": [
      "36it [00:30,  1.12it/s]"
     ]
    },
    {
     "name": "stdout",
     "output_type": "stream",
     "text": [
      "This is step: 3\n",
      "This is step: 4\n",
      "This is step: 0\n",
      "This is step: 1\n",
      "This is step: 2\n"
     ]
    },
    {
     "name": "stderr",
     "output_type": "stream",
     "text": [
      "37it [00:31,  1.12it/s]"
     ]
    },
    {
     "name": "stdout",
     "output_type": "stream",
     "text": [
      "This is step: 3\n",
      "This is step: 4\n",
      "This is step: 0\n",
      "This is step: 1\n",
      "This is step: 2\n"
     ]
    },
    {
     "name": "stderr",
     "output_type": "stream",
     "text": [
      "38it [00:31,  1.17it/s]"
     ]
    },
    {
     "name": "stdout",
     "output_type": "stream",
     "text": [
      "This is step: 3\n",
      "This is step: 4\n",
      "This is step: 0\n",
      "This is step: 1\n",
      "This is step: 2\n"
     ]
    },
    {
     "name": "stderr",
     "output_type": "stream",
     "text": [
      "39it [00:32,  1.12it/s]"
     ]
    },
    {
     "name": "stdout",
     "output_type": "stream",
     "text": [
      "This is step: 3\n",
      "This is step: 4\n",
      "This is step: 0\n",
      "This is step: 1\n",
      "This is step: 2\n",
      "This is step: 3\n",
      "This is step: 4\n"
     ]
    },
    {
     "name": "stderr",
     "output_type": "stream",
     "text": [
      "40it [00:33,  1.20it/s]"
     ]
    },
    {
     "name": "stdout",
     "output_type": "stream",
     "text": [
      "This is step: 0\n",
      "This is step: 1\n",
      "This is step: 2\n",
      "This is step: 3\n"
     ]
    },
    {
     "name": "stderr",
     "output_type": "stream",
     "text": [
      "41it [00:34,  1.08it/s]"
     ]
    },
    {
     "name": "stdout",
     "output_type": "stream",
     "text": [
      "This is step: 4\n",
      "This is step: 0\n",
      "This is step: 1\n",
      "This is step: 2\n",
      "This is step: 3\n"
     ]
    },
    {
     "name": "stderr",
     "output_type": "stream",
     "text": [
      "42it [00:36,  1.07s/it]"
     ]
    },
    {
     "name": "stdout",
     "output_type": "stream",
     "text": [
      "This is step: 4\n",
      "This is step: 0\n",
      "This is step: 1\n",
      "This is step: 2\n",
      "This is step: 3\n"
     ]
    },
    {
     "name": "stderr",
     "output_type": "stream",
     "text": [
      "43it [00:36,  1.03it/s]"
     ]
    },
    {
     "name": "stdout",
     "output_type": "stream",
     "text": [
      "This is step: 4\n",
      "This is step: 0\n",
      "This is step: 1\n",
      "This is step: 2\n",
      "This is step: 3\n"
     ]
    },
    {
     "name": "stderr",
     "output_type": "stream",
     "text": [
      "44it [00:37,  1.12it/s]"
     ]
    },
    {
     "name": "stdout",
     "output_type": "stream",
     "text": [
      "This is step: 4\n",
      "This is step: 0\n",
      "This is step: 1\n",
      "This is step: 2\n"
     ]
    },
    {
     "name": "stderr",
     "output_type": "stream",
     "text": [
      "45it [00:38,  1.09it/s]"
     ]
    },
    {
     "name": "stdout",
     "output_type": "stream",
     "text": [
      "This is step: 3\n",
      "This is step: 4\n",
      "This is step: 0\n",
      "This is step: 1\n",
      "This is step: 2\n",
      "This is step: 3\n"
     ]
    },
    {
     "name": "stderr",
     "output_type": "stream",
     "text": [
      "46it [00:39,  1.19it/s]"
     ]
    },
    {
     "name": "stdout",
     "output_type": "stream",
     "text": [
      "This is step: 4\n",
      "This is step: 0\n",
      "This is step: 1\n",
      "This is step: 2\n"
     ]
    },
    {
     "name": "stderr",
     "output_type": "stream",
     "text": [
      "47it [00:40,  1.17it/s]"
     ]
    },
    {
     "name": "stdout",
     "output_type": "stream",
     "text": [
      "This is step: 3\n",
      "This is step: 4\n",
      "This is step: 0\n",
      "This is step: 1\n",
      "This is step: 2\n"
     ]
    },
    {
     "name": "stderr",
     "output_type": "stream",
     "text": [
      "48it [00:40,  1.14it/s]"
     ]
    },
    {
     "name": "stdout",
     "output_type": "stream",
     "text": [
      "This is step: 3\n",
      "This is step: 4\n",
      "This is step: 0\n",
      "This is step: 1\n",
      "This is step: 2\n",
      "This is step: 3\n"
     ]
    },
    {
     "name": "stderr",
     "output_type": "stream",
     "text": [
      "49it [00:41,  1.22it/s]"
     ]
    },
    {
     "name": "stdout",
     "output_type": "stream",
     "text": [
      "This is step: 4\n",
      "This is step: 0\n",
      "This is step: 1\n",
      "This is step: 2\n",
      "This is step: 3\n"
     ]
    },
    {
     "name": "stderr",
     "output_type": "stream",
     "text": [
      "50it [00:42,  1.25it/s]"
     ]
    },
    {
     "name": "stdout",
     "output_type": "stream",
     "text": [
      "This is step: 4\n",
      "This is step: 0\n",
      "This is step: 1\n",
      "This is step: 2\n"
     ]
    },
    {
     "name": "stderr",
     "output_type": "stream",
     "text": [
      "51it [00:43,  1.23it/s]"
     ]
    },
    {
     "name": "stdout",
     "output_type": "stream",
     "text": [
      "This is step: 3\n",
      "This is step: 4\n"
     ]
    },
    {
     "name": "stderr",
     "output_type": "stream",
     "text": [
      "52it [00:43,  1.35it/s]"
     ]
    },
    {
     "name": "stdout",
     "output_type": "stream",
     "text": [
      "This is step: 0\n",
      "This is step: 1\n",
      "This is step: 2\n",
      "This is step: 3\n",
      "This is step: 4\n"
     ]
    },
    {
     "name": "stderr",
     "output_type": "stream",
     "text": [
      "53it [00:44,  1.42it/s]"
     ]
    },
    {
     "name": "stdout",
     "output_type": "stream",
     "text": [
      "This is step: 0\n",
      "This is step: 1\n",
      "This is step: 2\n",
      "This is step: 3\n",
      "This is step: 4\n",
      "This is step: 0\n",
      "This is step: 1\n",
      "This is step: 2\n",
      "This is step: 3\n"
     ]
    },
    {
     "name": "stderr",
     "output_type": "stream",
     "text": [
      "54it [00:45,  1.18it/s]"
     ]
    },
    {
     "name": "stdout",
     "output_type": "stream",
     "text": [
      "This is step: 4\n"
     ]
    },
    {
     "name": "stderr",
     "output_type": "stream",
     "text": [
      "55it [00:46,  1.27it/s]"
     ]
    },
    {
     "name": "stdout",
     "output_type": "stream",
     "text": [
      "This is step: 0\n",
      "This is step: 1\n",
      "This is step: 2\n",
      "This is step: 3\n",
      "This is step: 4\n",
      "This is step: 0\n",
      "This is step: 1\n",
      "This is step: 2\n",
      "This is step: 3\n"
     ]
    },
    {
     "name": "stderr",
     "output_type": "stream",
     "text": [
      "56it [00:47,  1.12it/s]"
     ]
    },
    {
     "name": "stdout",
     "output_type": "stream",
     "text": [
      "This is step: 4\n",
      "This is step: 0\n",
      "This is step: 1\n",
      "This is step: 2\n"
     ]
    },
    {
     "name": "stderr",
     "output_type": "stream",
     "text": [
      "57it [00:48,  1.12it/s]"
     ]
    },
    {
     "name": "stdout",
     "output_type": "stream",
     "text": [
      "This is step: 3\n",
      "This is step: 4\n"
     ]
    },
    {
     "name": "stderr",
     "output_type": "stream",
     "text": [
      "58it [00:48,  1.24it/s]"
     ]
    },
    {
     "name": "stdout",
     "output_type": "stream",
     "text": [
      "This is step: 0\n",
      "This is step: 1\n",
      "This is step: 2\n",
      "This is step: 3\n",
      "This is step: 4\n",
      "This is step: 0\n",
      "This is step: 1\n",
      "This is step: 2\n",
      "This is step: 3\n"
     ]
    },
    {
     "name": "stderr",
     "output_type": "stream",
     "text": [
      "59it [00:49,  1.12it/s]"
     ]
    },
    {
     "name": "stdout",
     "output_type": "stream",
     "text": [
      "This is step: 4\n",
      "This is step: 0\n",
      "This is step: 1\n",
      "This is step: 2\n",
      "This is step: 3\n"
     ]
    },
    {
     "name": "stderr",
     "output_type": "stream",
     "text": [
      "60it [00:50,  1.12it/s]"
     ]
    },
    {
     "name": "stdout",
     "output_type": "stream",
     "text": [
      "This is step: 4\n"
     ]
    },
    {
     "name": "stderr",
     "output_type": "stream",
     "text": [
      "61it [00:51,  1.26it/s]"
     ]
    },
    {
     "name": "stdout",
     "output_type": "stream",
     "text": [
      "This is step: 0\n",
      "This is step: 1\n",
      "This is step: 2\n",
      "This is step: 3\n",
      "This is step: 4\n",
      "This is step: 0\n",
      "This is step: 1\n",
      "This is step: 2\n"
     ]
    },
    {
     "name": "stderr",
     "output_type": "stream",
     "text": [
      "62it [00:52,  1.24it/s]"
     ]
    },
    {
     "name": "stdout",
     "output_type": "stream",
     "text": [
      "This is step: 3\n",
      "This is step: 4\n",
      "This is step: 0\n",
      "This is step: 1\n",
      "This is step: 2\n"
     ]
    },
    {
     "name": "stderr",
     "output_type": "stream",
     "text": [
      "63it [00:53,  1.21it/s]"
     ]
    },
    {
     "name": "stdout",
     "output_type": "stream",
     "text": [
      "This is step: 3\n",
      "This is step: 4\n",
      "This is step: 0\n",
      "This is step: 1\n",
      "This is step: 2\n",
      "This is step: 3\n"
     ]
    },
    {
     "name": "stderr",
     "output_type": "stream",
     "text": [
      "64it [00:53,  1.26it/s]"
     ]
    },
    {
     "name": "stdout",
     "output_type": "stream",
     "text": [
      "This is step: 4\n",
      "This is step: 0\n",
      "This is step: 1\n",
      "This is step: 2\n"
     ]
    },
    {
     "name": "stderr",
     "output_type": "stream",
     "text": [
      "65it [00:54,  1.21it/s]"
     ]
    },
    {
     "name": "stdout",
     "output_type": "stream",
     "text": [
      "This is step: 3\n",
      "This is step: 4\n",
      "This is step: 0\n",
      "This is step: 1\n",
      "This is step: 2\n"
     ]
    },
    {
     "name": "stderr",
     "output_type": "stream",
     "text": [
      "66it [00:55,  1.16it/s]"
     ]
    },
    {
     "name": "stdout",
     "output_type": "stream",
     "text": [
      "This is step: 3\n",
      "This is step: 4\n",
      "This is step: 0\n",
      "This is step: 1\n",
      "This is step: 2\n"
     ]
    },
    {
     "name": "stderr",
     "output_type": "stream",
     "text": [
      "67it [00:56,  1.16it/s]"
     ]
    },
    {
     "name": "stdout",
     "output_type": "stream",
     "text": [
      "This is step: 3\n",
      "This is step: 4\n",
      "This is step: 0\n",
      "This is step: 1\n",
      "This is step: 2\n",
      "This is step: 3\n",
      "This is step: 4\n"
     ]
    },
    {
     "name": "stderr",
     "output_type": "stream",
     "text": [
      "68it [00:57,  1.10it/s]"
     ]
    },
    {
     "name": "stdout",
     "output_type": "stream",
     "text": [
      "This is step: 0\n",
      "This is step: 1\n",
      "This is step: 2\n",
      "This is step: 3\n"
     ]
    },
    {
     "name": "stderr",
     "output_type": "stream",
     "text": [
      "69it [00:58,  1.02it/s]"
     ]
    },
    {
     "name": "stdout",
     "output_type": "stream",
     "text": [
      "This is step: 4\n"
     ]
    },
    {
     "name": "stderr",
     "output_type": "stream",
     "text": [
      "70it [00:59,  1.17it/s]"
     ]
    },
    {
     "name": "stdout",
     "output_type": "stream",
     "text": [
      "This is step: 0\n",
      "This is step: 1\n",
      "This is step: 2\n",
      "This is step: 3\n",
      "This is step: 4\n",
      "This is step: 0\n",
      "This is step: 1\n",
      "This is step: 2\n"
     ]
    },
    {
     "name": "stderr",
     "output_type": "stream",
     "text": [
      "71it [01:00,  1.15it/s]"
     ]
    },
    {
     "name": "stdout",
     "output_type": "stream",
     "text": [
      "This is step: 3\n",
      "This is step: 4\n",
      "This is step: 0\n",
      "This is step: 1\n",
      "This is step: 2\n"
     ]
    },
    {
     "name": "stderr",
     "output_type": "stream",
     "text": [
      "72it [01:01,  1.13it/s]"
     ]
    },
    {
     "name": "stdout",
     "output_type": "stream",
     "text": [
      "This is step: 3\n",
      "This is step: 4\n",
      "This is step: 0\n",
      "This is step: 1\n",
      "This is step: 2\n",
      "This is step: 3\n"
     ]
    },
    {
     "name": "stderr",
     "output_type": "stream",
     "text": [
      "73it [01:01,  1.16it/s]"
     ]
    },
    {
     "name": "stdout",
     "output_type": "stream",
     "text": [
      "This is step: 4\n",
      "This is step: 0\n",
      "This is step: 1\n",
      "This is step: 2\n",
      "This is step: 3\n"
     ]
    },
    {
     "name": "stderr",
     "output_type": "stream",
     "text": [
      "74it [01:03,  1.02it/s]"
     ]
    },
    {
     "name": "stdout",
     "output_type": "stream",
     "text": [
      "This is step: 4\n",
      "This is step: 0\n",
      "This is step: 1\n",
      "This is step: 2\n",
      "This is step: 3\n"
     ]
    },
    {
     "name": "stderr",
     "output_type": "stream",
     "text": [
      "75it [01:04,  1.06s/it]"
     ]
    },
    {
     "name": "stdout",
     "output_type": "stream",
     "text": [
      "This is step: 4\n"
     ]
    },
    {
     "name": "stderr",
     "output_type": "stream",
     "text": [
      "76it [01:05,  1.03it/s]"
     ]
    },
    {
     "name": "stdout",
     "output_type": "stream",
     "text": [
      "This is step: 0\n",
      "This is step: 1\n",
      "This is step: 2\n",
      "This is step: 3\n",
      "This is step: 4\n",
      "This is step: 0\n",
      "This is step: 1\n",
      "This is step: 2\n"
     ]
    },
    {
     "name": "stderr",
     "output_type": "stream",
     "text": [
      "77it [01:06,  1.02it/s]"
     ]
    },
    {
     "name": "stdout",
     "output_type": "stream",
     "text": [
      "This is step: 3\n",
      "This is step: 4\n",
      "This is step: 0\n",
      "This is step: 1\n",
      "This is step: 2\n"
     ]
    },
    {
     "name": "stderr",
     "output_type": "stream",
     "text": [
      "78it [01:07,  1.01it/s]"
     ]
    },
    {
     "name": "stdout",
     "output_type": "stream",
     "text": [
      "This is step: 3\n",
      "This is step: 4\n",
      "This is step: 0\n",
      "This is step: 1\n",
      "This is step: 2\n",
      "This is step: 3\n"
     ]
    },
    {
     "name": "stderr",
     "output_type": "stream",
     "text": [
      "79it [01:08,  1.06it/s]"
     ]
    },
    {
     "name": "stdout",
     "output_type": "stream",
     "text": [
      "This is step: 4\n",
      "This is step: 0\n",
      "This is step: 1\n",
      "This is step: 2\n"
     ]
    },
    {
     "name": "stderr",
     "output_type": "stream",
     "text": [
      "80it [01:08,  1.06it/s]"
     ]
    },
    {
     "name": "stdout",
     "output_type": "stream",
     "text": [
      "This is step: 3\n",
      "This is step: 4\n",
      "This is step: 0\n",
      "This is step: 1\n",
      "This is step: 2\n",
      "This is step: 3\n",
      "This is step: 4\n"
     ]
    },
    {
     "name": "stderr",
     "output_type": "stream",
     "text": [
      "81it [01:10,  1.03it/s]"
     ]
    },
    {
     "name": "stdout",
     "output_type": "stream",
     "text": [
      "This is step: 0\n",
      "This is step: 1\n",
      "This is step: 2\n",
      "This is step: 3\n"
     ]
    },
    {
     "name": "stderr",
     "output_type": "stream",
     "text": [
      "82it [01:10,  1.06it/s]"
     ]
    },
    {
     "name": "stdout",
     "output_type": "stream",
     "text": [
      "This is step: 4\n",
      "This is step: 0\n",
      "This is step: 1\n",
      "This is step: 2\n"
     ]
    },
    {
     "name": "stderr",
     "output_type": "stream",
     "text": [
      "83it [01:11,  1.09it/s]"
     ]
    },
    {
     "name": "stdout",
     "output_type": "stream",
     "text": [
      "This is step: 3\n",
      "This is step: 4\n",
      "This is step: 0\n",
      "This is step: 1\n",
      "This is step: 2\n"
     ]
    },
    {
     "name": "stderr",
     "output_type": "stream",
     "text": [
      "84it [01:12,  1.03it/s]"
     ]
    },
    {
     "name": "stdout",
     "output_type": "stream",
     "text": [
      "This is step: 3\n",
      "This is step: 4\n",
      "This is step: 0\n",
      "This is step: 1\n",
      "This is step: 2\n",
      "This is step: 3\n"
     ]
    },
    {
     "name": "stderr",
     "output_type": "stream",
     "text": [
      "85it [01:13,  1.09it/s]"
     ]
    },
    {
     "name": "stdout",
     "output_type": "stream",
     "text": [
      "This is step: 4\n",
      "This is step: 0\n",
      "This is step: 1\n",
      "This is step: 2\n"
     ]
    },
    {
     "name": "stderr",
     "output_type": "stream",
     "text": [
      "86it [01:14,  1.06it/s]"
     ]
    },
    {
     "name": "stdout",
     "output_type": "stream",
     "text": [
      "This is step: 3\n",
      "This is step: 4\n",
      "This is step: 0\n",
      "This is step: 1\n",
      "This is step: 2\n"
     ]
    },
    {
     "name": "stderr",
     "output_type": "stream",
     "text": [
      "87it [01:16,  1.08s/it]"
     ]
    },
    {
     "name": "stdout",
     "output_type": "stream",
     "text": [
      "This is step: 3\n",
      "This is step: 4\n",
      "This is step: 0\n",
      "This is step: 1\n",
      "This is step: 2\n",
      "This is step: 3\n"
     ]
    },
    {
     "name": "stderr",
     "output_type": "stream",
     "text": [
      "88it [01:16,  1.00s/it]"
     ]
    },
    {
     "name": "stdout",
     "output_type": "stream",
     "text": [
      "This is step: 4\n",
      "This is step: 0\n",
      "This is step: 1\n",
      "This is step: 2\n",
      "This is step: 3\n",
      "This is step: 4\n"
     ]
    },
    {
     "name": "stderr",
     "output_type": "stream",
     "text": [
      "89it [01:18,  1.08s/it]"
     ]
    },
    {
     "name": "stdout",
     "output_type": "stream",
     "text": [
      "This is step: 0\n",
      "This is step: 1\n",
      "This is step: 2\n",
      "This is step: 3\n"
     ]
    },
    {
     "name": "stderr",
     "output_type": "stream",
     "text": [
      "90it [01:19,  1.12s/it]"
     ]
    },
    {
     "name": "stdout",
     "output_type": "stream",
     "text": [
      "This is step: 4\n",
      "This is step: 0\n",
      "This is step: 1\n",
      "This is step: 2\n",
      "This is step: 3\n",
      "This is step: 4\n"
     ]
    },
    {
     "name": "stderr",
     "output_type": "stream",
     "text": [
      "91it [01:20,  1.01s/it]"
     ]
    },
    {
     "name": "stdout",
     "output_type": "stream",
     "text": [
      "This is step: 0\n",
      "This is step: 1\n",
      "This is step: 2\n",
      "This is step: 3\n"
     ]
    },
    {
     "name": "stderr",
     "output_type": "stream",
     "text": [
      "92it [01:20,  1.07it/s]"
     ]
    },
    {
     "name": "stdout",
     "output_type": "stream",
     "text": [
      "This is step: 4\n",
      "This is step: 0\n",
      "This is step: 1\n",
      "This is step: 2\n",
      "This is step: 3\n"
     ]
    },
    {
     "name": "stderr",
     "output_type": "stream",
     "text": [
      "93it [01:22,  1.13s/it]"
     ]
    },
    {
     "name": "stdout",
     "output_type": "stream",
     "text": [
      "This is step: 4\n",
      "This is step: 0\n",
      "This is step: 1\n",
      "This is step: 2\n"
     ]
    },
    {
     "name": "stderr",
     "output_type": "stream",
     "text": [
      "94it [01:23,  1.07s/it]"
     ]
    },
    {
     "name": "stdout",
     "output_type": "stream",
     "text": [
      "This is step: 3\n",
      "This is step: 4\n",
      "This is step: 0\n",
      "This is step: 1\n",
      "This is step: 2\n",
      "This is step: 3\n"
     ]
    },
    {
     "name": "stderr",
     "output_type": "stream",
     "text": [
      "95it [01:24,  1.02it/s]"
     ]
    },
    {
     "name": "stdout",
     "output_type": "stream",
     "text": [
      "This is step: 4\n",
      "This is step: 0\n",
      "This is step: 1\n",
      "This is step: 2\n",
      "This is step: 3\n",
      "This is step: 4\n"
     ]
    },
    {
     "name": "stderr",
     "output_type": "stream",
     "text": [
      "97it [01:25,  1.11it/s]"
     ]
    },
    {
     "name": "stdout",
     "output_type": "stream",
     "text": [
      "This is step: 0\n",
      "This is step: 1\n",
      "This is step: 2\n",
      "This is step: 3\n",
      "This is step: 4\n",
      "This is step: 0\n",
      "This is step: 1\n",
      "This is step: 2\n"
     ]
    },
    {
     "name": "stderr",
     "output_type": "stream",
     "text": [
      "98it [01:26,  1.14it/s]"
     ]
    },
    {
     "name": "stdout",
     "output_type": "stream",
     "text": [
      "This is step: 3\n",
      "This is step: 4\n",
      "This is step: 0\n",
      "This is step: 1\n",
      "This is step: 2\n",
      "This is step: 3\n",
      "This is step: 4\n"
     ]
    },
    {
     "name": "stderr",
     "output_type": "stream",
     "text": [
      "99it [01:27,  1.05it/s]"
     ]
    },
    {
     "name": "stdout",
     "output_type": "stream",
     "text": [
      "This is step: 0\n",
      "This is step: 1\n",
      "This is step: 2\n",
      "This is step: 3\n",
      "This is step: 4\n"
     ]
    },
    {
     "name": "stderr",
     "output_type": "stream",
     "text": [
      "100it [01:28,  1.11it/s]"
     ]
    },
    {
     "name": "stdout",
     "output_type": "stream",
     "text": [
      "This is step: 0\n",
      "This is step: 1\n",
      "This is step: 2\n"
     ]
    },
    {
     "name": "stderr",
     "output_type": "stream",
     "text": [
      "101it [01:29,  1.11it/s]"
     ]
    },
    {
     "name": "stdout",
     "output_type": "stream",
     "text": [
      "This is step: 3\n",
      "This is step: 4\n",
      "This is step: 0\n",
      "This is step: 1\n",
      "This is step: 2\n",
      "This is step: 3\n"
     ]
    },
    {
     "name": "stderr",
     "output_type": "stream",
     "text": [
      "102it [01:30,  1.12it/s]"
     ]
    },
    {
     "name": "stdout",
     "output_type": "stream",
     "text": [
      "This is step: 4\n",
      "This is step: 0\n",
      "This is step: 1\n",
      "This is step: 2\n",
      "This is step: 3\n"
     ]
    },
    {
     "name": "stderr",
     "output_type": "stream",
     "text": [
      "103it [01:31,  1.15it/s]"
     ]
    },
    {
     "name": "stdout",
     "output_type": "stream",
     "text": [
      "This is step: 4\n",
      "This is step: 0\n",
      "This is step: 1\n",
      "This is step: 2\n",
      "This is step: 3\n"
     ]
    },
    {
     "name": "stderr",
     "output_type": "stream",
     "text": [
      "104it [01:31,  1.20it/s]"
     ]
    },
    {
     "name": "stdout",
     "output_type": "stream",
     "text": [
      "This is step: 4\n",
      "This is step: 0\n",
      "This is step: 1\n",
      "This is step: 2\n",
      "This is step: 3\n"
     ]
    },
    {
     "name": "stderr",
     "output_type": "stream",
     "text": [
      "105it [01:33,  1.05s/it]"
     ]
    },
    {
     "name": "stdout",
     "output_type": "stream",
     "text": [
      "This is step: 4\n"
     ]
    },
    {
     "name": "stderr",
     "output_type": "stream",
     "text": [
      "106it [01:34,  1.05it/s]"
     ]
    },
    {
     "name": "stdout",
     "output_type": "stream",
     "text": [
      "This is step: 0\n",
      "This is step: 1\n",
      "This is step: 2\n",
      "This is step: 3\n",
      "This is step: 4\n",
      "This is step: 0\n",
      "This is step: 1\n",
      "This is step: 2\n",
      "This is step: 3\n"
     ]
    },
    {
     "name": "stderr",
     "output_type": "stream",
     "text": [
      "107it [01:35,  1.06it/s]"
     ]
    },
    {
     "name": "stdout",
     "output_type": "stream",
     "text": [
      "This is step: 4\n",
      "This is step: 0\n",
      "This is step: 1\n",
      "This is step: 2\n",
      "This is step: 3\n",
      "This is step: 4\n"
     ]
    },
    {
     "name": "stderr",
     "output_type": "stream",
     "text": [
      "108it [01:36,  1.00it/s]"
     ]
    },
    {
     "name": "stdout",
     "output_type": "stream",
     "text": [
      "This is step: 0\n",
      "This is step: 1\n",
      "This is step: 2\n",
      "This is step: 3\n",
      "This is step: 4\n"
     ]
    },
    {
     "name": "stderr",
     "output_type": "stream",
     "text": [
      "109it [01:37,  1.07it/s]"
     ]
    },
    {
     "name": "stdout",
     "output_type": "stream",
     "text": [
      "This is step: 0\n",
      "This is step: 1\n",
      "This is step: 2\n"
     ]
    },
    {
     "name": "stderr",
     "output_type": "stream",
     "text": [
      "110it [01:38,  1.01it/s]"
     ]
    },
    {
     "name": "stdout",
     "output_type": "stream",
     "text": [
      "This is step: 3\n",
      "This is step: 4\n",
      "This is step: 0\n",
      "This is step: 1\n",
      "This is step: 2\n",
      "This is step: 3\n"
     ]
    },
    {
     "name": "stderr",
     "output_type": "stream",
     "text": [
      "111it [01:39,  1.04s/it]"
     ]
    },
    {
     "name": "stdout",
     "output_type": "stream",
     "text": [
      "This is step: 4\n"
     ]
    },
    {
     "name": "stderr",
     "output_type": "stream",
     "text": [
      "112it [01:39,  1.08it/s]"
     ]
    },
    {
     "name": "stdout",
     "output_type": "stream",
     "text": [
      "This is step: 0\n",
      "This is step: 1\n",
      "This is step: 2\n",
      "This is step: 3\n",
      "This is step: 4\n",
      "This is step: 0\n",
      "This is step: 1\n",
      "This is step: 2\n",
      "This is step: 3\n"
     ]
    },
    {
     "name": "stderr",
     "output_type": "stream",
     "text": [
      "113it [01:40,  1.11it/s]"
     ]
    },
    {
     "name": "stdout",
     "output_type": "stream",
     "text": [
      "This is step: 4\n",
      "This is step: 0\n",
      "This is step: 1\n",
      "This is step: 2\n"
     ]
    },
    {
     "name": "stderr",
     "output_type": "stream",
     "text": [
      "114it [01:42,  1.01it/s]"
     ]
    },
    {
     "name": "stdout",
     "output_type": "stream",
     "text": [
      "This is step: 3\n",
      "This is step: 4\n"
     ]
    },
    {
     "name": "stderr",
     "output_type": "stream",
     "text": [
      "115it [01:42,  1.10it/s]"
     ]
    },
    {
     "name": "stdout",
     "output_type": "stream",
     "text": [
      "This is step: 0\n",
      "This is step: 1\n",
      "This is step: 2\n",
      "This is step: 3\n",
      "This is step: 4\n",
      "This is step: 0\n",
      "This is step: 1\n",
      "This is step: 2\n",
      "This is step: 3\n",
      "This is step: 4\n"
     ]
    },
    {
     "name": "stderr",
     "output_type": "stream",
     "text": [
      "116it [01:43,  1.01s/it]"
     ]
    },
    {
     "name": "stdout",
     "output_type": "stream",
     "text": [
      "This is step: 0\n",
      "This is step: 1\n",
      "This is step: 2\n",
      "This is step: 3\n"
     ]
    },
    {
     "name": "stderr",
     "output_type": "stream",
     "text": [
      "117it [01:45,  1.06s/it]"
     ]
    },
    {
     "name": "stdout",
     "output_type": "stream",
     "text": [
      "This is step: 4\n"
     ]
    },
    {
     "name": "stderr",
     "output_type": "stream",
     "text": [
      "118it [01:45,  1.07it/s]"
     ]
    },
    {
     "name": "stdout",
     "output_type": "stream",
     "text": [
      "This is step: 0\n",
      "This is step: 1\n",
      "This is step: 2\n",
      "This is step: 3\n",
      "This is step: 4\n"
     ]
    },
    {
     "name": "stderr",
     "output_type": "stream",
     "text": [
      "119it [01:46,  1.15it/s]"
     ]
    },
    {
     "name": "stdout",
     "output_type": "stream",
     "text": [
      "This is step: 0\n",
      "This is step: 1\n",
      "This is step: 2\n",
      "This is step: 3\n",
      "This is step: 4\n",
      "This is step: 0\n",
      "This is step: 1\n",
      "This is step: 2\n"
     ]
    },
    {
     "name": "stderr",
     "output_type": "stream",
     "text": [
      "120it [01:47,  1.06it/s]"
     ]
    },
    {
     "name": "stdout",
     "output_type": "stream",
     "text": [
      "This is step: 3\n",
      "This is step: 4\n"
     ]
    },
    {
     "name": "stderr",
     "output_type": "stream",
     "text": [
      "121it [01:48,  1.18it/s]"
     ]
    },
    {
     "name": "stdout",
     "output_type": "stream",
     "text": [
      "This is step: 0\n",
      "This is step: 1\n",
      "This is step: 2\n",
      "This is step: 3\n",
      "This is step: 4\n",
      "This is step: 0\n",
      "This is step: 1\n",
      "This is step: 2\n"
     ]
    },
    {
     "name": "stderr",
     "output_type": "stream",
     "text": [
      "122it [01:49,  1.14it/s]"
     ]
    },
    {
     "name": "stdout",
     "output_type": "stream",
     "text": [
      "This is step: 3\n",
      "This is step: 4\n",
      "This is step: 0\n",
      "This is step: 1\n",
      "This is step: 2\n",
      "This is step: 3\n",
      "This is step: 4\n"
     ]
    },
    {
     "name": "stderr",
     "output_type": "stream",
     "text": [
      "123it [01:50,  1.04it/s]"
     ]
    },
    {
     "name": "stdout",
     "output_type": "stream",
     "text": [
      "This is step: 0\n",
      "This is step: 1\n",
      "This is step: 2\n",
      "This is step: 3\n",
      "This is step: 4\n"
     ]
    },
    {
     "name": "stderr",
     "output_type": "stream",
     "text": [
      "124it [01:51,  1.15it/s]"
     ]
    },
    {
     "name": "stdout",
     "output_type": "stream",
     "text": [
      "This is step: 0\n",
      "This is step: 1\n",
      "This is step: 2\n",
      "This is step: 3\n"
     ]
    },
    {
     "name": "stderr",
     "output_type": "stream",
     "text": [
      "125it [01:51,  1.16it/s]"
     ]
    },
    {
     "name": "stdout",
     "output_type": "stream",
     "text": [
      "This is step: 4\n",
      "This is step: 0\n",
      "This is step: 1\n",
      "This is step: 2\n",
      "This is step: 3\n"
     ]
    },
    {
     "name": "stderr",
     "output_type": "stream",
     "text": [
      "126it [01:53,  1.03it/s]"
     ]
    },
    {
     "name": "stdout",
     "output_type": "stream",
     "text": [
      "This is step: 4\n"
     ]
    },
    {
     "name": "stderr",
     "output_type": "stream",
     "text": [
      "127it [01:53,  1.08it/s]"
     ]
    },
    {
     "name": "stdout",
     "output_type": "stream",
     "text": [
      "This is step: 0\n",
      "This is step: 1\n",
      "This is step: 2\n",
      "This is step: 3\n",
      "This is step: 4\n",
      "This is step: 0\n",
      "This is step: 1\n",
      "This is step: 2\n"
     ]
    },
    {
     "name": "stderr",
     "output_type": "stream",
     "text": [
      "128it [01:54,  1.08it/s]"
     ]
    },
    {
     "name": "stdout",
     "output_type": "stream",
     "text": [
      "This is step: 3\n",
      "This is step: 4\n",
      "This is step: 0\n",
      "This is step: 1\n",
      "This is step: 2\n",
      "This is step: 3\n"
     ]
    },
    {
     "name": "stderr",
     "output_type": "stream",
     "text": [
      "129it [01:56,  1.04s/it]"
     ]
    },
    {
     "name": "stdout",
     "output_type": "stream",
     "text": [
      "This is step: 4\n"
     ]
    },
    {
     "name": "stderr",
     "output_type": "stream",
     "text": [
      "129it [01:56,  1.10it/s]"
     ]
    },
    {
     "name": "stdout",
     "output_type": "stream",
     "text": [
      "This is step: 0\n",
      "This is step: 1\n",
      "This is step: 2\n",
      "This is step: 3\n"
     ]
    },
    {
     "name": "stderr",
     "output_type": "stream",
     "text": [
      "\n"
     ]
    },
    {
     "ename": "NetworkXNoPath",
     "evalue": "No path between 11983 and 9309.",
     "output_type": "error",
     "traceback": [
      "\u001B[1;31m---------------------------------------------------------------------------\u001B[0m",
      "\u001B[1;31mNetworkXNoPath\u001B[0m                            Traceback (most recent call last)",
      "\u001B[1;32m~\\AppData\\Local\\Temp\\ipykernel_28396\\648652038.py\u001B[0m in \u001B[0;36m<module>\u001B[1;34m\u001B[0m\n\u001B[0;32m     64\u001B[0m \u001B[1;34m'specifying the model class, the parameter settings, the number of times to run each set of parameters, and the reporters to be tracked'\u001B[0m\u001B[1;33m\u001B[0m\u001B[1;33m\u001B[0m\u001B[0m\n\u001B[0;32m     65\u001B[0m \u001B[1;33m\u001B[0m\u001B[0m\n\u001B[1;32m---> 66\u001B[1;33m \u001B[0mbatch_run\u001B[0m\u001B[1;33m.\u001B[0m\u001B[0mrun_all\u001B[0m\u001B[1;33m(\u001B[0m\u001B[1;33m)\u001B[0m\u001B[1;33m\u001B[0m\u001B[1;33m\u001B[0m\u001B[0m\n\u001B[0m\u001B[0;32m     67\u001B[0m \u001B[1;33m\u001B[0m\u001B[0m\n\u001B[0;32m     68\u001B[0m \u001B[1;34m'run the Batchrunner'\u001B[0m\u001B[1;33m\u001B[0m\u001B[1;33m\u001B[0m\u001B[0m\n",
      "\u001B[1;32m~\\anaconda3\\envs\\SEN1121\\lib\\site-packages\\mesa\\batchrunner.py\u001B[0m in \u001B[0;36mrun_all\u001B[1;34m(self)\u001B[0m\n\u001B[0;32m    353\u001B[0m                 \u001B[0mparam_values\u001B[0m \u001B[1;33m=\u001B[0m \u001B[0mall_param_values\u001B[0m\u001B[1;33m[\u001B[0m\u001B[0mi\u001B[0m\u001B[1;33m]\u001B[0m\u001B[1;33m\u001B[0m\u001B[1;33m\u001B[0m\u001B[0m\n\u001B[0;32m    354\u001B[0m                 \u001B[1;32mfor\u001B[0m \u001B[0m_\u001B[0m \u001B[1;32min\u001B[0m \u001B[0mrange\u001B[0m\u001B[1;33m(\u001B[0m\u001B[0mself\u001B[0m\u001B[1;33m.\u001B[0m\u001B[0miterations\u001B[0m\u001B[1;33m)\u001B[0m\u001B[1;33m:\u001B[0m\u001B[1;33m\u001B[0m\u001B[1;33m\u001B[0m\u001B[0m\n\u001B[1;32m--> 355\u001B[1;33m                     \u001B[0mself\u001B[0m\u001B[1;33m.\u001B[0m\u001B[0mrun_iteration\u001B[0m\u001B[1;33m(\u001B[0m\u001B[0mkwargs\u001B[0m\u001B[1;33m,\u001B[0m \u001B[0mparam_values\u001B[0m\u001B[1;33m,\u001B[0m \u001B[0mnext\u001B[0m\u001B[1;33m(\u001B[0m\u001B[0mrun_count\u001B[0m\u001B[1;33m)\u001B[0m\u001B[1;33m)\u001B[0m\u001B[1;33m\u001B[0m\u001B[1;33m\u001B[0m\u001B[0m\n\u001B[0m\u001B[0;32m    356\u001B[0m                     \u001B[0mpbar\u001B[0m\u001B[1;33m.\u001B[0m\u001B[0mupdate\u001B[0m\u001B[1;33m(\u001B[0m\u001B[1;33m)\u001B[0m\u001B[1;33m\u001B[0m\u001B[1;33m\u001B[0m\u001B[0m\n\u001B[0;32m    357\u001B[0m \u001B[1;33m\u001B[0m\u001B[0m\n",
      "\u001B[1;32m~\\AppData\\Local\\Temp\\ipykernel_28396\\648652038.py\u001B[0m in \u001B[0;36mrun_iteration\u001B[1;34m(self, kwargs, param_values, run_count)\u001B[0m\n\u001B[0;32m     36\u001B[0m         \u001B[1;34m\"\"\" Run one iteration of the model, with the given parameters. \"\"\"\u001B[0m\u001B[1;33m\u001B[0m\u001B[1;33m\u001B[0m\u001B[0m\n\u001B[0;32m     37\u001B[0m         \u001B[0mmodel\u001B[0m \u001B[1;33m=\u001B[0m \u001B[0mself\u001B[0m\u001B[1;33m.\u001B[0m\u001B[0mmodel_cls\u001B[0m\u001B[1;33m(\u001B[0m\u001B[1;33m**\u001B[0m\u001B[0mkwargs\u001B[0m\u001B[1;33m)\u001B[0m\u001B[1;33m\u001B[0m\u001B[1;33m\u001B[0m\u001B[0m\n\u001B[1;32m---> 38\u001B[1;33m         \u001B[0mresults\u001B[0m \u001B[1;33m=\u001B[0m \u001B[0mself\u001B[0m\u001B[1;33m.\u001B[0m\u001B[0mrun_model\u001B[0m\u001B[1;33m(\u001B[0m\u001B[0mmodel\u001B[0m\u001B[1;33m)\u001B[0m\u001B[1;33m\u001B[0m\u001B[1;33m\u001B[0m\u001B[0m\n\u001B[0m\u001B[0;32m     39\u001B[0m         \u001B[1;32mif\u001B[0m \u001B[0mparam_values\u001B[0m \u001B[1;32mis\u001B[0m \u001B[1;32mnot\u001B[0m \u001B[1;32mNone\u001B[0m\u001B[1;33m:\u001B[0m\u001B[1;33m\u001B[0m\u001B[1;33m\u001B[0m\u001B[0m\n\u001B[0;32m     40\u001B[0m             \u001B[0mmodel_key\u001B[0m \u001B[1;33m=\u001B[0m \u001B[0mtuple\u001B[0m\u001B[1;33m(\u001B[0m\u001B[0mparam_values\u001B[0m\u001B[1;33m)\u001B[0m \u001B[1;33m+\u001B[0m \u001B[1;33m(\u001B[0m\u001B[0mrun_count\u001B[0m\u001B[1;33m,\u001B[0m\u001B[1;33m)\u001B[0m\u001B[1;33m\u001B[0m\u001B[1;33m\u001B[0m\u001B[0m\n",
      "\u001B[1;32m~\\anaconda3\\envs\\SEN1121\\lib\\site-packages\\mesa\\batchrunner.py\u001B[0m in \u001B[0;36mrun_model\u001B[1;34m(self, model)\u001B[0m\n\u001B[0;32m    397\u001B[0m         \"\"\"\n\u001B[0;32m    398\u001B[0m         \u001B[1;32mwhile\u001B[0m \u001B[0mmodel\u001B[0m\u001B[1;33m.\u001B[0m\u001B[0mrunning\u001B[0m \u001B[1;32mand\u001B[0m \u001B[0mmodel\u001B[0m\u001B[1;33m.\u001B[0m\u001B[0mschedule\u001B[0m\u001B[1;33m.\u001B[0m\u001B[0msteps\u001B[0m \u001B[1;33m<\u001B[0m \u001B[0mself\u001B[0m\u001B[1;33m.\u001B[0m\u001B[0mmax_steps\u001B[0m\u001B[1;33m:\u001B[0m\u001B[1;33m\u001B[0m\u001B[1;33m\u001B[0m\u001B[0m\n\u001B[1;32m--> 399\u001B[1;33m             \u001B[0mmodel\u001B[0m\u001B[1;33m.\u001B[0m\u001B[0mstep\u001B[0m\u001B[1;33m(\u001B[0m\u001B[1;33m)\u001B[0m\u001B[1;33m\u001B[0m\u001B[1;33m\u001B[0m\u001B[0m\n\u001B[0m\u001B[0;32m    400\u001B[0m \u001B[1;33m\u001B[0m\u001B[0m\n\u001B[0;32m    401\u001B[0m         \u001B[1;32mif\u001B[0m \u001B[0mhasattr\u001B[0m\u001B[1;33m(\u001B[0m\u001B[0mmodel\u001B[0m\u001B[1;33m,\u001B[0m \u001B[1;34m\"datacollector\"\u001B[0m\u001B[1;33m)\u001B[0m\u001B[1;33m:\u001B[0m\u001B[1;33m\u001B[0m\u001B[1;33m\u001B[0m\u001B[0m\n",
      "\u001B[1;32m~\\Programming\\MESA\\Repository\\EarthquakeABM-1211\\base_model_mesa\\rich_model\\model.py\u001B[0m in \u001B[0;36mstep\u001B[1;34m(self)\u001B[0m\n\u001B[0;32m    348\u001B[0m         \u001B[1;33m-\u001B[0m \u001B[0mHospital\u001B[0m\u001B[1;33m:\u001B[0m\u001B[1;33m\u001B[0m\u001B[1;33m\u001B[0m\u001B[0m\n\u001B[0;32m    349\u001B[0m         \"\"\"\n\u001B[1;32m--> 350\u001B[1;33m         \u001B[0mself\u001B[0m\u001B[1;33m.\u001B[0m\u001B[0mschedule\u001B[0m\u001B[1;33m.\u001B[0m\u001B[0mtrigger_agent_action_by_type\u001B[0m\u001B[1;33m(\u001B[0m\u001B[1;34m\"Ambulance\"\u001B[0m\u001B[1;33m,\u001B[0m \u001B[1;34m\"make_choice\"\u001B[0m\u001B[1;33m)\u001B[0m\u001B[1;33m\u001B[0m\u001B[1;33m\u001B[0m\u001B[0m\n\u001B[0m\u001B[0;32m    351\u001B[0m         \u001B[1;31m# Phase 5\u001B[0m\u001B[1;33m\u001B[0m\u001B[1;33m\u001B[0m\u001B[1;33m\u001B[0m\u001B[0m\n\u001B[0;32m    352\u001B[0m \u001B[1;33m\u001B[0m\u001B[0m\n",
      "\u001B[1;32m~\\Programming\\MESA\\Repository\\EarthquakeABM-1211\\base_model_mesa\\rich_model\\UtilClasses.py\u001B[0m in \u001B[0;36mtrigger_agent_action_by_type\u001B[1;34m(self, agent_type, agent_action, agent_filter, **kwargs)\u001B[0m\n\u001B[0;32m    119\u001B[0m         \u001B[1;32mfor\u001B[0m \u001B[0magent\u001B[0m \u001B[1;32min\u001B[0m \u001B[0mself\u001B[0m\u001B[1;33m.\u001B[0m\u001B[0magents_by_type\u001B[0m\u001B[1;33m[\u001B[0m\u001B[0magent_type\u001B[0m\u001B[1;33m]\u001B[0m\u001B[1;33m.\u001B[0m\u001B[0mvalues\u001B[0m\u001B[1;33m(\u001B[0m\u001B[1;33m)\u001B[0m\u001B[1;33m:\u001B[0m\u001B[1;33m\u001B[0m\u001B[1;33m\u001B[0m\u001B[0m\n\u001B[0;32m    120\u001B[0m             \u001B[1;32mif\u001B[0m \u001B[0magent_filter\u001B[0m\u001B[1;33m(\u001B[0m\u001B[0magent\u001B[0m\u001B[1;33m)\u001B[0m\u001B[1;33m:\u001B[0m\u001B[1;33m\u001B[0m\u001B[1;33m\u001B[0m\u001B[0m\n\u001B[1;32m--> 121\u001B[1;33m                 \u001B[0mgetattr\u001B[0m\u001B[1;33m(\u001B[0m\u001B[0magent\u001B[0m\u001B[1;33m,\u001B[0m \u001B[0magent_action\u001B[0m\u001B[1;33m)\u001B[0m\u001B[1;33m(\u001B[0m\u001B[1;33m**\u001B[0m\u001B[0mkwargs\u001B[0m\u001B[1;33m)\u001B[0m\u001B[1;33m\u001B[0m\u001B[1;33m\u001B[0m\u001B[0m\n\u001B[0m\u001B[0;32m    122\u001B[0m \u001B[1;33m\u001B[0m\u001B[0m\n\u001B[0;32m    123\u001B[0m     \u001B[1;32mdef\u001B[0m \u001B[0mfind_agent_by_id\u001B[0m\u001B[1;33m(\u001B[0m\u001B[0mself\u001B[0m\u001B[1;33m,\u001B[0m \u001B[0magent_id\u001B[0m\u001B[1;33m)\u001B[0m\u001B[1;33m:\u001B[0m\u001B[1;33m\u001B[0m\u001B[1;33m\u001B[0m\u001B[0m\n",
      "\u001B[1;32m~\\Programming\\MESA\\Repository\\EarthquakeABM-1211\\base_model_mesa\\rich_model\\agents.py\u001B[0m in \u001B[0;36mmake_choice\u001B[1;34m(self)\u001B[0m\n\u001B[0;32m    651\u001B[0m             \u001B[1;32mraise\u001B[0m \u001B[0mValueError\u001B[0m\u001B[1;33m(\u001B[0m\u001B[1;34m'Status is None'\u001B[0m\u001B[1;33m)\u001B[0m\u001B[1;33m\u001B[0m\u001B[1;33m\u001B[0m\u001B[0m\n\u001B[0;32m    652\u001B[0m \u001B[1;33m\u001B[0m\u001B[0m\n\u001B[1;32m--> 653\u001B[1;33m         \u001B[0mgetattr\u001B[0m\u001B[1;33m(\u001B[0m\u001B[0mself\u001B[0m\u001B[1;33m,\u001B[0m \u001B[0mself\u001B[0m\u001B[1;33m.\u001B[0m\u001B[0mchoice_dict\u001B[0m\u001B[1;33m[\u001B[0m\u001B[0mself\u001B[0m\u001B[1;33m.\u001B[0m\u001B[0mstatus\u001B[0m\u001B[1;33m]\u001B[0m\u001B[1;33m)\u001B[0m\u001B[1;33m(\u001B[0m\u001B[1;33m)\u001B[0m\u001B[1;33m\u001B[0m\u001B[1;33m\u001B[0m\u001B[0m\n\u001B[0m\u001B[0;32m    654\u001B[0m         \u001B[1;32mreturn\u001B[0m \u001B[0mself\u001B[0m\u001B[1;33m.\u001B[0m\u001B[0mstatus\u001B[0m\u001B[1;33m\u001B[0m\u001B[1;33m\u001B[0m\u001B[0m\n\u001B[0;32m    655\u001B[0m \u001B[1;33m\u001B[0m\u001B[0m\n",
      "\u001B[1;32m~\\Programming\\MESA\\Repository\\EarthquakeABM-1211\\base_model_mesa\\rich_model\\agents.py\u001B[0m in \u001B[0;36mstep_to_destination\u001B[1;34m(self)\u001B[0m\n\u001B[0;32m    656\u001B[0m     \u001B[1;32mdef\u001B[0m \u001B[0mstep_to_destination\u001B[0m\u001B[1;33m(\u001B[0m\u001B[0mself\u001B[0m\u001B[1;33m)\u001B[0m\u001B[1;33m:\u001B[0m\u001B[1;33m\u001B[0m\u001B[1;33m\u001B[0m\u001B[0m\n\u001B[0;32m    657\u001B[0m         \u001B[0mdest\u001B[0m \u001B[1;33m=\u001B[0m \u001B[0mself\u001B[0m\u001B[1;33m.\u001B[0m\u001B[0mdestination\u001B[0m\u001B[1;33m\u001B[0m\u001B[1;33m\u001B[0m\u001B[0m\n\u001B[1;32m--> 658\u001B[1;33m         \u001B[0mval\u001B[0m \u001B[1;33m=\u001B[0m \u001B[0msuper\u001B[0m\u001B[1;33m(\u001B[0m\u001B[1;33m)\u001B[0m\u001B[1;33m.\u001B[0m\u001B[0mstep_to_destination\u001B[0m\u001B[1;33m(\u001B[0m\u001B[0mdest\u001B[0m\u001B[1;33m)\u001B[0m\u001B[1;33m\u001B[0m\u001B[1;33m\u001B[0m\u001B[0m\n\u001B[0m\u001B[0;32m    659\u001B[0m         \u001B[1;32mif\u001B[0m \u001B[0mval\u001B[0m \u001B[1;33m==\u001B[0m \u001B[1;34m'Reached'\u001B[0m\u001B[1;33m:\u001B[0m\u001B[1;33m\u001B[0m\u001B[1;33m\u001B[0m\u001B[0m\n\u001B[0;32m    660\u001B[0m             \u001B[0mself\u001B[0m\u001B[1;33m.\u001B[0m\u001B[0mstatus\u001B[0m \u001B[1;33m=\u001B[0m \u001B[1;34m'Reached'\u001B[0m\u001B[1;33m\u001B[0m\u001B[1;33m\u001B[0m\u001B[0m\n",
      "\u001B[1;32m~\\Programming\\MESA\\Repository\\EarthquakeABM-1211\\base_model_mesa\\rich_model\\agents.py\u001B[0m in \u001B[0;36mstep_to_destination\u001B[1;34m(self, destination)\u001B[0m\n\u001B[0;32m    356\u001B[0m \u001B[1;33m\u001B[0m\u001B[0m\n\u001B[0;32m    357\u001B[0m         \u001B[1;32mif\u001B[0m \u001B[0mself\u001B[0m\u001B[1;33m.\u001B[0m\u001B[0mcurrent_path\u001B[0m \u001B[1;32mis\u001B[0m \u001B[1;32mNone\u001B[0m \u001B[1;32mor\u001B[0m \u001B[0mlen\u001B[0m\u001B[1;33m(\u001B[0m\u001B[0mself\u001B[0m\u001B[1;33m.\u001B[0m\u001B[0mcurrent_path\u001B[0m\u001B[1;33m)\u001B[0m \u001B[1;33m==\u001B[0m \u001B[1;36m0\u001B[0m \u001B[1;32mor\u001B[0m \u001B[0mself\u001B[0m\u001B[1;33m.\u001B[0m\u001B[0mcurrent_path\u001B[0m\u001B[1;33m[\u001B[0m\u001B[1;33m-\u001B[0m\u001B[1;36m1\u001B[0m\u001B[1;33m]\u001B[0m \u001B[1;33m!=\u001B[0m \u001B[0mdestination\u001B[0m\u001B[1;33m:\u001B[0m\u001B[1;33m\u001B[0m\u001B[1;33m\u001B[0m\u001B[0m\n\u001B[1;32m--> 358\u001B[1;33m             \u001B[0mself\u001B[0m\u001B[1;33m.\u001B[0m\u001B[0mcurrent_path\u001B[0m \u001B[1;33m=\u001B[0m \u001B[0mself\u001B[0m\u001B[1;33m.\u001B[0m\u001B[0mfind_path\u001B[0m\u001B[1;33m(\u001B[0m\u001B[0mdestination\u001B[0m\u001B[1;33m)\u001B[0m\u001B[1;33m\u001B[0m\u001B[1;33m\u001B[0m\u001B[0m\n\u001B[0m\u001B[0;32m    359\u001B[0m             \u001B[1;32mif\u001B[0m \u001B[0mlen\u001B[0m\u001B[1;33m(\u001B[0m\u001B[0mself\u001B[0m\u001B[1;33m.\u001B[0m\u001B[0mcurrent_path\u001B[0m\u001B[1;33m)\u001B[0m \u001B[1;33m==\u001B[0m \u001B[1;36m0\u001B[0m\u001B[1;33m:\u001B[0m\u001B[1;33m\u001B[0m\u001B[1;33m\u001B[0m\u001B[0m\n\u001B[0;32m    360\u001B[0m                 \u001B[1;32mraise\u001B[0m \u001B[0mValueError\u001B[0m\u001B[1;33m(\u001B[0m\u001B[1;34m'No path to destination'\u001B[0m\u001B[1;33m)\u001B[0m\u001B[1;33m\u001B[0m\u001B[1;33m\u001B[0m\u001B[0m\n",
      "\u001B[1;32m~\\Programming\\MESA\\Repository\\EarthquakeABM-1211\\base_model_mesa\\rich_model\\agents.py\u001B[0m in \u001B[0;36mfind_path\u001B[1;34m(self, destination)\u001B[0m\n\u001B[0;32m    320\u001B[0m     \u001B[1;32mdef\u001B[0m \u001B[0mfind_path\u001B[0m\u001B[1;33m(\u001B[0m\u001B[0mself\u001B[0m\u001B[1;33m,\u001B[0m \u001B[0mdestination\u001B[0m\u001B[1;33m)\u001B[0m\u001B[1;33m:\u001B[0m\u001B[1;33m\u001B[0m\u001B[1;33m\u001B[0m\u001B[0m\n\u001B[0;32m    321\u001B[0m         \u001B[1;31m# Use the networkx library to find the shortest route from the position to the destination\u001B[0m\u001B[1;33m\u001B[0m\u001B[1;33m\u001B[0m\u001B[1;33m\u001B[0m\u001B[0m\n\u001B[1;32m--> 322\u001B[1;33m         \u001B[0mpath\u001B[0m \u001B[1;33m=\u001B[0m \u001B[0mnx\u001B[0m\u001B[1;33m.\u001B[0m\u001B[0mshortest_path\u001B[0m\u001B[1;33m(\u001B[0m\u001B[0mself\u001B[0m\u001B[1;33m.\u001B[0m\u001B[0mmodel\u001B[0m\u001B[1;33m.\u001B[0m\u001B[0mG\u001B[0m\u001B[1;33m,\u001B[0m \u001B[0msource\u001B[0m\u001B[1;33m=\u001B[0m\u001B[0mself\u001B[0m\u001B[1;33m.\u001B[0m\u001B[0mposition_node\u001B[0m\u001B[1;33m,\u001B[0m \u001B[0mtarget\u001B[0m\u001B[1;33m=\u001B[0m\u001B[0mdestination\u001B[0m\u001B[1;33m)\u001B[0m\u001B[1;33m\u001B[0m\u001B[1;33m\u001B[0m\u001B[0m\n\u001B[0m\u001B[0;32m    323\u001B[0m         \u001B[1;32mreturn\u001B[0m \u001B[0mpath\u001B[0m\u001B[1;33m\u001B[0m\u001B[1;33m\u001B[0m\u001B[0m\n\u001B[0;32m    324\u001B[0m \u001B[1;33m\u001B[0m\u001B[0m\n",
      "\u001B[1;32m~\\anaconda3\\envs\\SEN1121\\lib\\site-packages\\networkx\\algorithms\\shortest_paths\\generic.py\u001B[0m in \u001B[0;36mshortest_path\u001B[1;34m(G, source, target, weight, method)\u001B[0m\n\u001B[0;32m    163\u001B[0m             \u001B[1;31m# Find shortest source-target path.\u001B[0m\u001B[1;33m\u001B[0m\u001B[1;33m\u001B[0m\u001B[1;33m\u001B[0m\u001B[0m\n\u001B[0;32m    164\u001B[0m             \u001B[1;32mif\u001B[0m \u001B[0mmethod\u001B[0m \u001B[1;33m==\u001B[0m \u001B[1;34m\"unweighted\"\u001B[0m\u001B[1;33m:\u001B[0m\u001B[1;33m\u001B[0m\u001B[1;33m\u001B[0m\u001B[0m\n\u001B[1;32m--> 165\u001B[1;33m                 \u001B[0mpaths\u001B[0m \u001B[1;33m=\u001B[0m \u001B[0mnx\u001B[0m\u001B[1;33m.\u001B[0m\u001B[0mbidirectional_shortest_path\u001B[0m\u001B[1;33m(\u001B[0m\u001B[0mG\u001B[0m\u001B[1;33m,\u001B[0m \u001B[0msource\u001B[0m\u001B[1;33m,\u001B[0m \u001B[0mtarget\u001B[0m\u001B[1;33m)\u001B[0m\u001B[1;33m\u001B[0m\u001B[1;33m\u001B[0m\u001B[0m\n\u001B[0m\u001B[0;32m    166\u001B[0m             \u001B[1;32melif\u001B[0m \u001B[0mmethod\u001B[0m \u001B[1;33m==\u001B[0m \u001B[1;34m\"dijkstra\"\u001B[0m\u001B[1;33m:\u001B[0m\u001B[1;33m\u001B[0m\u001B[1;33m\u001B[0m\u001B[0m\n\u001B[0;32m    167\u001B[0m                 \u001B[0m_\u001B[0m\u001B[1;33m,\u001B[0m \u001B[0mpaths\u001B[0m \u001B[1;33m=\u001B[0m \u001B[0mnx\u001B[0m\u001B[1;33m.\u001B[0m\u001B[0mbidirectional_dijkstra\u001B[0m\u001B[1;33m(\u001B[0m\u001B[0mG\u001B[0m\u001B[1;33m,\u001B[0m \u001B[0msource\u001B[0m\u001B[1;33m,\u001B[0m \u001B[0mtarget\u001B[0m\u001B[1;33m,\u001B[0m \u001B[0mweight\u001B[0m\u001B[1;33m)\u001B[0m\u001B[1;33m\u001B[0m\u001B[1;33m\u001B[0m\u001B[0m\n",
      "\u001B[1;32m~\\anaconda3\\envs\\SEN1121\\lib\\site-packages\\networkx\\algorithms\\shortest_paths\\unweighted.py\u001B[0m in \u001B[0;36mbidirectional_shortest_path\u001B[1;34m(G, source, target)\u001B[0m\n\u001B[0;32m    222\u001B[0m \u001B[1;33m\u001B[0m\u001B[0m\n\u001B[0;32m    223\u001B[0m     \u001B[1;31m# call helper to do the real work\u001B[0m\u001B[1;33m\u001B[0m\u001B[1;33m\u001B[0m\u001B[1;33m\u001B[0m\u001B[0m\n\u001B[1;32m--> 224\u001B[1;33m     \u001B[0mresults\u001B[0m \u001B[1;33m=\u001B[0m \u001B[0m_bidirectional_pred_succ\u001B[0m\u001B[1;33m(\u001B[0m\u001B[0mG\u001B[0m\u001B[1;33m,\u001B[0m \u001B[0msource\u001B[0m\u001B[1;33m,\u001B[0m \u001B[0mtarget\u001B[0m\u001B[1;33m)\u001B[0m\u001B[1;33m\u001B[0m\u001B[1;33m\u001B[0m\u001B[0m\n\u001B[0m\u001B[0;32m    225\u001B[0m     \u001B[0mpred\u001B[0m\u001B[1;33m,\u001B[0m \u001B[0msucc\u001B[0m\u001B[1;33m,\u001B[0m \u001B[0mw\u001B[0m \u001B[1;33m=\u001B[0m \u001B[0mresults\u001B[0m\u001B[1;33m\u001B[0m\u001B[1;33m\u001B[0m\u001B[0m\n\u001B[0;32m    226\u001B[0m \u001B[1;33m\u001B[0m\u001B[0m\n",
      "\u001B[1;32m~\\anaconda3\\envs\\SEN1121\\lib\\site-packages\\networkx\\algorithms\\shortest_paths\\unweighted.py\u001B[0m in \u001B[0;36m_bidirectional_pred_succ\u001B[1;34m(G, source, target)\u001B[0m\n\u001B[0;32m    290\u001B[0m                         \u001B[1;32mreturn\u001B[0m \u001B[0mpred\u001B[0m\u001B[1;33m,\u001B[0m \u001B[0msucc\u001B[0m\u001B[1;33m,\u001B[0m \u001B[0mw\u001B[0m\u001B[1;33m\u001B[0m\u001B[1;33m\u001B[0m\u001B[0m\n\u001B[0;32m    291\u001B[0m \u001B[1;33m\u001B[0m\u001B[0m\n\u001B[1;32m--> 292\u001B[1;33m     \u001B[1;32mraise\u001B[0m \u001B[0mnx\u001B[0m\u001B[1;33m.\u001B[0m\u001B[0mNetworkXNoPath\u001B[0m\u001B[1;33m(\u001B[0m\u001B[1;34mf\"No path between {source} and {target}.\"\u001B[0m\u001B[1;33m)\u001B[0m\u001B[1;33m\u001B[0m\u001B[1;33m\u001B[0m\u001B[0m\n\u001B[0m\u001B[0;32m    293\u001B[0m \u001B[1;33m\u001B[0m\u001B[0m\n\u001B[0;32m    294\u001B[0m \u001B[1;33m\u001B[0m\u001B[0m\n",
      "\u001B[1;31mNetworkXNoPath\u001B[0m: No path between 11983 and 9309."
     ]
    }
   ],
   "source": [
    "from mesa.batchrunner import BatchRunner\n",
    "from model import MinimalModel\n",
    "\n",
    "parameters = {\n",
    "    #\"magnitude\": [5, 6, 7],\n",
    "    \"num_citizens\": [1000, 2000, 3000],\n",
    "    \"num_buildings\": [500, 1000, 1500],\n",
    "    \"num_hospitals\": [5, 10, 15],\n",
    "    \"num_ambulances\": [25, 50, 75],\n",
    "    \"num_doctors\": [100, 200, 300],\n",
    "    \"dispatch_size\": [10, 20, 30]\n",
    "}\n",
    "\n",
    "'Define the parameter settings to be tested'\n",
    "\n",
    "model_reporters = {\"num_citizens\": lambda m: m.schedule.get_agent_count(),\n",
    "                   # \"num_buildings\": lambda m: m.schedule.get_agent_count(),\n",
    "                   # \"num_hospitals\": lambda m: m.schedule.get_agent_count(),\n",
    "                   # \"num_ambulances\": lambda m: m.schedule.get_agent_count(),\n",
    "                   # \"num_doctors\": lambda m: m.schedule.get_agent_count(),\n",
    "                   # \"dispatcher_size\": lambda m: m.dispatcher.size,\n",
    "                   # \"num_dead_citizens\": lambda m: m.dead_citizens,\n",
    "                   # \"num_saved_citizens\": lambda m: m.saved_citizens,\n",
    "                   # \"num_injured_citizens\": lambda m: m.injured_citizens,\n",
    "                   # \"num_dead_doctors\": lambda m: m.dead_doctors,\n",
    "                   # \"num_saved_doctors\": lambda m: m.saved_doctors,\n",
    "                   # \"num_injured_doctors\": lambda m: m.injured_doctors,\n",
    "                   # \"num_destroyed_buildings\": lambda m: m.destroyed_buildings,\n",
    "                   # \"num_damaged_buildings\": lambda m: m.damaged_buildings\n",
    "                   }\n",
    "\n",
    "'keep track of the agents position and the state of the city'\n",
    "\n",
    "class BatchrunnerExtender(BatchRunner):\n",
    "    def run_iteration(self, kwargs, param_values, run_count):\n",
    "        \"\"\" Run one iteration of the model, with the given parameters. \"\"\"\n",
    "        model = self.model_cls(**kwargs)\n",
    "        results = self.run_model(model)\n",
    "        if param_values is not None:\n",
    "            model_key = tuple(param_values) + (run_count,)\n",
    "        else:\n",
    "            model_key = (run_count,)\n",
    "\n",
    "        if self.model_reporters:\n",
    "            self.model_vars[model_key] = self.collect_model_vars(model)\n",
    "        if self.agent_reporters:\n",
    "            agent_vars = self.collect_agent_vars(model)\n",
    "            for agent_id, reports in agent_vars.items():\n",
    "                agent_key = model_key + (agent_id,)\n",
    "                self.agent_vars[agent_key] = reports\n",
    "        # Collects data from datacollector object in model\n",
    "        if results is not None:\n",
    "            if results.model_reporters is not None:\n",
    "                self.datacollector_model_reporters[\n",
    "                    model_key\n",
    "                ] = results.get_model_vars_dataframe()\n",
    "            if results.agent_reporters is not None:\n",
    "                self.datacollector_agent_reporters[\n",
    "                    model_key\n",
    "                ] = results.get_agent_vars_dataframe('Citizen')\n",
    "\n",
    "batch_run = BatchrunnerExtender(MinimalModel, parameters, max_steps=5, model_reporters={})\n",
    "\n",
    "'specifying the model class, the parameter settings, the number of times to run each set of parameters, and the reporters to be tracked'\n",
    "\n",
    "batch_run.run_all()\n",
    "\n",
    "'run the Batchrunner'\n",
    "\n",
    "results = batch_run.get_model_vars_dataframe()\n",
    "\n",
    "'Collect and analyze the results of the batch run to get the dataframe of the results'\n",
    "\n",
    "\n",
    "\n",
    "\n",
    "\n"
   ]
  },
  {
   "cell_type": "code",
   "execution_count": null,
   "id": "bccfbc62",
   "metadata": {},
   "outputs": [],
   "source": []
  }
 ],
 "metadata": {
  "kernelspec": {
   "display_name": "Python 3 (ipykernel)",
   "language": "python",
   "name": "python3"
  },
  "language_info": {
   "codemirror_mode": {
    "name": "ipython",
    "version": 3
   },
   "file_extension": ".py",
   "mimetype": "text/x-python",
   "name": "python",
   "nbconvert_exporter": "python",
   "pygments_lexer": "ipython3",
   "version": "3.9.13"
  }
 },
 "nbformat": 4,
 "nbformat_minor": 5
}
