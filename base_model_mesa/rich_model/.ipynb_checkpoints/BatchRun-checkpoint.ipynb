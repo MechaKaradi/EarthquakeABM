{
 "cells": [
  {
   "cell_type": "code",
   "execution_count": 2,
   "id": "f3c1ebfc",
   "metadata": {},
   "outputs": [
    {
     "ename": "ModuleNotFoundError",
     "evalue": "No module named 'model.py'; 'model' is not a package",
     "output_type": "error",
     "traceback": [
      "\u001b[1;31m---------------------------------------------------------------------------\u001b[0m",
      "\u001b[1;31mModuleNotFoundError\u001b[0m                       Traceback (most recent call last)",
      "\u001b[1;32m~\\AppData\\Local\\Temp\\ipykernel_916\\141750672.py\u001b[0m in \u001b[0;36m<module>\u001b[1;34m\u001b[0m\n\u001b[0;32m      1\u001b[0m \u001b[1;32mfrom\u001b[0m \u001b[0mmesa\u001b[0m\u001b[1;33m.\u001b[0m\u001b[0mbatchrunner\u001b[0m \u001b[1;32mimport\u001b[0m \u001b[0mBatchRunner\u001b[0m\u001b[1;33m\u001b[0m\u001b[1;33m\u001b[0m\u001b[0m\n\u001b[1;32m----> 2\u001b[1;33m \u001b[1;32mimport\u001b[0m \u001b[0mmodel\u001b[0m\u001b[1;33m.\u001b[0m\u001b[0mpy\u001b[0m\u001b[1;33m\u001b[0m\u001b[1;33m\u001b[0m\u001b[0m\n\u001b[0m\u001b[0;32m      3\u001b[0m \u001b[1;33m\u001b[0m\u001b[0m\n",
      "\u001b[1;31mModuleNotFoundError\u001b[0m: No module named 'model.py'; 'model' is not a package"
     ]
    }
   ],
   "source": [
    "from mesa.batchrunner import BatchRunner 'Import the BatchRunner module from Mesa '\n",
    "\n",
    "import model.py\n",
    "\n",
    "parameters = {\n",
    "    \"magnitude\": [5, 6, 7],\n",
    "    \"num_citizens\": [1000, 2000, 3000],\n",
    "    \"num_buildings\": [500, 1000, 1500],\n",
    "    \"num_hospitals\": [5, 10, 15],\n",
    "    \"num_ambulances\": [25, 50, 75],\n",
    "    \"num_doctors\": [100, 200, 300],\n",
    "    \"dispatcher_size\": [10, 20, 30]\n",
    "}\n",
    "\n",
    "'Define the parameter settings to be tested'\n",
    "\n",
    "model_reporters = {\"num_citizens\": lambda m: m.schedule.get_agent_count(),\n",
    "                   \"num_buildings\": lambda m: m.schedule.get_agent_count(),\n",
    "                   \"num_hospitals\": lambda m: m.schedule.get_agent_count(),\n",
    "                   \"num_ambulances\": lambda m: m.schedule.get_agent_count(),\n",
    "                   \"num_doctors\": lambda m: m.schedule.get_agent_count(),\n",
    "                   \"dispatcher_size\": lambda m: m.dispatcher.size,\n",
    "                   \"num_dead_citizens\": lambda m: m.dead_citizens,\n",
    "                   \"num_saved_citizens\": lambda m: m.saved_citizens,\n",
    "                   \"num_injured_citizens\": lambda m: m.injured_citizens,\n",
    "                   \"num_dead_doctors\": lambda m: m.dead_doctors,\n",
    "                   \"num_saved_doctors\": lambda m: m.saved_doctors,\n",
    "                   \"num_injured_doctors\": lambda m: m.injured_doctors,\n",
    "                   \"num_destroyed_buildings\": lambda m: m.destroyed_buildings,\n",
    "                   \"num_damaged_buildings\": lambda m: m.damaged_buildings}\n",
    "\n",
    "'keep track of the agents position and the state of the city'\n",
    "\n",
    "\n",
    "batch_run = BatchRunner(EmergencyResponse, parameters, 10)\n",
    "\n",
    "'specifying the model class, the parameter settings, the number of times to run each set of parameters, and the reporters to be tracked'\n",
    "\n",
    "batch_run.run_all()\n",
    "\n",
    "'run the Batchrunner'\n",
    "\n",
    "results = batch_run.get_model_vars_dataframe()\n",
    "\n",
    "'Collect and analyze the results of the batch run to get the dataframe of the results'\n",
    "\n",
    "\n",
    "\n",
    "\n",
    "\n"
   ]
  },
  {
   "cell_type": "code",
   "execution_count": null,
   "id": "bccfbc62",
   "metadata": {},
   "outputs": [],
   "source": []
  }
 ],
 "metadata": {
  "kernelspec": {
   "display_name": "Python 3 (ipykernel)",
   "language": "python",
   "name": "python3"
  },
  "language_info": {
   "codemirror_mode": {
    "name": "ipython",
    "version": 3
   },
   "file_extension": ".py",
   "mimetype": "text/x-python",
   "name": "python",
   "nbconvert_exporter": "python",
   "pygments_lexer": "ipython3",
   "version": "3.9.13"
  }
 },
 "nbformat": 4,
 "nbformat_minor": 5
}
