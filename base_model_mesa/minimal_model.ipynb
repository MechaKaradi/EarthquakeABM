{
 "cells": [
  {
   "cell_type": "code",
   "execution_count": 1,
   "id": "70059384-7a53-4dcf-a4e8-9331b4cfc6df",
   "metadata": {
    "tags": []
   },
   "outputs": [],
   "source": [
    "from mesa import Agent, Model\n",
    "import mesa.time as time\n",
    "import mesa.space as space\n",
    "from mesa.datacollection import DataCollector\n",
    "\n",
    "from enum import Enum\n",
    "import pickle\n",
    "import networkx as nx\n",
    "import matplotlib.pyplot as plt\n",
    "import random"
   ]
  },
  {
   "cell_type": "code",
   "execution_count": 1,
   "id": "249366c9-78e8-4f9a-b0b4-d8390729a49e",
   "metadata": {
    "tags": []
   },
   "outputs": [],
   "source": [
    "class MinimalAgent(Agent):\n",
    "    def __init__(self, unique_id, model):\n",
    "        super().__init__(unique_id, model)\n",
    "\n",
    "    def step(self):\n",
    "        print(\"Hello world! I am agent: \" + str(self.unique_id) + \" my node id is: \" + str(self.pos))"
   ]
  },
  {
   "cell_type": "code",
   "execution_count": 1,
   "id": "02e7e791-733f-46bf-9e29-999d0a5bf0e0",
   "metadata": {
    "tags": []
   },
   "outputs": [],
   "source": [
    "class MinimalModel(Model):\n",
    "    def __init__(self):\n",
    "        self.schedule = time.RandomActivation(self)\n",
    "        with open('street_network.data', 'rb') as file:\n",
    "            self.streets = pickle.load(file)\n",
    "\n",
    "        self.grid = space.NetworkGrid(self.streets)\n",
    "        \n",
    "        \n",
    "        self.num_agents = 10\n",
    "  \n",
    "        for i in range(self.num_agents):\n",
    "            a = MinimalAgent(i, self)\n",
    "            self.schedule.add(a)\n",
    "            location = random.choice(list(self.streets))\n",
    "            #print(location)\n",
    "            self.grid.place_agent(a, location)\n",
    "\n",
    "        model_metrics = {\n",
    "            \"Number of Agents\": count_agents\n",
    "        }\n",
    "\n",
    "        agent_metrics = {\n",
    "            \"Agent ID\": \"unique_id\"\n",
    "        }\n",
    "\n",
    "        self.datacollector = DataCollector(model_reporters=model_metrics, agent_reporters=agent_metrics)\n",
    "\n",
    "        self.running = True\n",
    "        self.datacollector.collect(self)\n",
    "\n",
    "    def step(self):\n",
    "        print(\"This is step: \" + str(self.schedule.steps))\n",
    "        self.schedule.step()\n",
    "        self.datacollector.collect(self)"
   ]
  },
  {
   "cell_type": "code",
   "execution_count": 1,
   "id": "fe8299e7-9aa3-4f77-9f96-28e2889d8a4a",
   "metadata": {
    "tags": []
   },
   "outputs": [],
   "source": [
    "\"\"\" Model metrics\"\"\"\n",
    "def count_agents(self):\n",
    "    return self.num_agents"
   ]
  },
  {
   "cell_type": "code",
   "execution_count": 2,
   "id": "71c081e2-b5bb-4fc5-a5c8-c378c0faeb99",
   "metadata": {
    "tags": []
   },
   "outputs": [
    {
     "name": "stdout",
     "output_type": "stream",
     "text": [
      "This is step: 0\n",
      "Hello world! I am agent: 9 my node id is: 1448\n",
      "Hello world! I am agent: 5 my node id is: 5386\n",
      "Hello world! I am agent: 7 my node id is: 14608\n",
      "Hello world! I am agent: 8 my node id is: 13543\n",
      "Hello world! I am agent: 3 my node id is: 984\n",
      "Hello world! I am agent: 6 my node id is: 14775\n",
      "Hello world! I am agent: 2 my node id is: 263\n",
      "Hello world! I am agent: 4 my node id is: 9246\n",
      "Hello world! I am agent: 0 my node id is: 7092\n",
      "Hello world! I am agent: 1 my node id is: 13667\n",
      "This is step: 1\n",
      "Hello world! I am agent: 3 my node id is: 984\n",
      "Hello world! I am agent: 7 my node id is: 14608\n",
      "Hello world! I am agent: 5 my node id is: 5386\n",
      "Hello world! I am agent: 2 my node id is: 263\n",
      "Hello world! I am agent: 4 my node id is: 9246\n",
      "Hello world! I am agent: 9 my node id is: 1448\n",
      "Hello world! I am agent: 0 my node id is: 7092\n",
      "Hello world! I am agent: 1 my node id is: 13667\n",
      "Hello world! I am agent: 6 my node id is: 14775\n",
      "Hello world! I am agent: 8 my node id is: 13543\n",
      "This is step: 2\n",
      "Hello world! I am agent: 4 my node id is: 9246\n",
      "Hello world! I am agent: 9 my node id is: 1448\n",
      "Hello world! I am agent: 3 my node id is: 984\n",
      "Hello world! I am agent: 7 my node id is: 14608\n",
      "Hello world! I am agent: 6 my node id is: 14775\n",
      "Hello world! I am agent: 0 my node id is: 7092\n",
      "Hello world! I am agent: 1 my node id is: 13667\n",
      "Hello world! I am agent: 2 my node id is: 263\n",
      "Hello world! I am agent: 5 my node id is: 5386\n",
      "Hello world! I am agent: 8 my node id is: 13543\n",
      "   Number of Agents\n",
      "0                10\n",
      "1                10\n",
      "2                10\n",
      "3                10\n",
      "              Agent ID\n",
      "Step AgentID          \n",
      "0    0               0\n",
      "     1               1\n",
      "     2               2\n",
      "     3               3\n",
      "     4               4\n",
      "     5               5\n",
      "     6               6\n",
      "     7               7\n",
      "     8               8\n",
      "     9               9\n",
      "1    0               0\n",
      "     1               1\n",
      "     2               2\n",
      "     3               3\n",
      "     4               4\n",
      "     5               5\n",
      "     6               6\n",
      "     7               7\n",
      "     8               8\n",
      "     9               9\n",
      "2    0               0\n",
      "     1               1\n",
      "     2               2\n",
      "     3               3\n",
      "     4               4\n",
      "     5               5\n",
      "     6               6\n",
      "     7               7\n",
      "     8               8\n",
      "     9               9\n",
      "3    0               0\n",
      "     1               1\n",
      "     2               2\n",
      "     3               3\n",
      "     4               4\n",
      "     5               5\n",
      "     6               6\n",
      "     7               7\n",
      "     8               8\n",
      "     9               9\n"
     ]
    }
   ],
   "source": [
    "\"\"\" Run Model\n",
    "\"\"\"\n",
    "\n",
    "model = MinimalModel()\n",
    "for i in range(3):\n",
    "    model.step()\n",
    "\n",
    "# Get the Pandas Dataframe from the model, by using the table name we defined in the model\n",
    "model_data = model.datacollector.get_model_vars_dataframe()\n",
    "agent_data = model.datacollector.get_agent_vars_dataframe()\n",
    "print(model_data)\n",
    "print(agent_data)"
   ]
  }
 ],
 "metadata": {
  "kernelspec": {
   "display_name": "Python 3 (ipykernel)",
   "language": "python",
   "name": "python3"
  },
  "language_info": {
   "codemirror_mode": {
    "name": "ipython",
    "version": 3
   },
   "file_extension": ".py",
   "mimetype": "text/x-python",
   "name": "python",
   "nbconvert_exporter": "python",
   "pygments_lexer": "ipython3",
   "version": "3.8.15"
  }
 },
 "nbformat": 4,
 "nbformat_minor": 5
}
